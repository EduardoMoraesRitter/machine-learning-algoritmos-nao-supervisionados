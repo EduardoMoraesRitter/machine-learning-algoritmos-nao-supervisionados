{
  "nbformat": 4,
  "nbformat_minor": 0,
  "metadata": {
    "colab": {
      "name": "Colab's New Code Editor",
      "provenance": [],
      "collapsed_sections": [],
      "include_colab_link": true
    },
    "kernelspec": {
      "display_name": "Python 3",
      "name": "python3"
    }
  },
  "cells": [
    {
      "cell_type": "markdown",
      "metadata": {
        "id": "view-in-github",
        "colab_type": "text"
      },
      "source": [
        "<a href=\"https://colab.research.google.com/github/EduardoMoraesRitter/machine-learning-algoritmos-nao-supervisionados/blob/master/1_modelo_nao_supervisionado.ipynb\" target=\"_parent\"><img src=\"https://colab.research.google.com/assets/colab-badge.svg\" alt=\"Open In Colab\"/></a>"
      ]
    },
    {
      "cell_type": "markdown",
      "metadata": {
        "id": "xhzHI8V6DdHO",
        "colab_type": "text"
      },
      "source": [
        "#fazer um sistema de recomendacao com filmes pelo generos\n",
        "\n",
        "1.   pegar os dados\n",
        "2.   conhecendo os dados\n",
        "1.   mudar os nomes, columns = ['\n",
        "2.   extrair os dados passando dados para coulunas binarias, get_dummies\n",
        "1.   junto os dois dataframe, pd.concat([\n",
        "2.   gerar um escala/nivel de genero sendo um filmes mais de comedia doque animaçao, StandardScaler\n",
        "1.   agrupar os filmes usando Cluesteriracao, KMeans\n",
        "2.   Visualizar o centroids os grupos gerados e usar o SEABORN\n",
        "\n",
        "\n",
        "\n",
        "o KMeans funciona, passa o numero de cluster, ele joga entao 3 pontos aleatorio chamado de centroids, calcula depois a distancia entre os 3 pontos, pega a metade do camilho e divide os dados dessa metade, recalcula a posição dos centroides os pontos para otimiza a a distancia dos dado realocando o centroides.\n",
        "\n",
        "assim como redistribuir um hospital por regiao e bairro\n",
        "\n",
        "- https://www.naftaliharris.com/blog/visualizing-k-means-clustering/\n",
        "- https://filosophy.org/writing/visual-algorithms-k-means-clustering/\n",
        "\n",
        "\n",
        "\n",
        "\n",
        "\n"
      ]
    },
    {
      "cell_type": "code",
      "metadata": {
        "id": "sa9eUHolElXw",
        "colab_type": "code",
        "outputId": "b727ef0e-7ce4-4deb-d6fd-e79d2ae053d4",
        "colab": {
          "base_uri": "https://localhost:8080/",
          "height": 195
        }
      },
      "source": [
        "import pandas as pd\n",
        "\n",
        "uri = 'https://raw.githubusercontent.com/EduardoMoraesRitter/machine-learning-algoritmos-nao-supervisionados/master/movies.csv'\n",
        "filmes_df = pd.read_csv(uri)\n",
        "\n",
        "filmes_df.head()"
      ],
      "execution_count": 1,
      "outputs": [
        {
          "output_type": "execute_result",
          "data": {
            "text/html": [
              "<div>\n",
              "<style scoped>\n",
              "    .dataframe tbody tr th:only-of-type {\n",
              "        vertical-align: middle;\n",
              "    }\n",
              "\n",
              "    .dataframe tbody tr th {\n",
              "        vertical-align: top;\n",
              "    }\n",
              "\n",
              "    .dataframe thead th {\n",
              "        text-align: right;\n",
              "    }\n",
              "</style>\n",
              "<table border=\"1\" class=\"dataframe\">\n",
              "  <thead>\n",
              "    <tr style=\"text-align: right;\">\n",
              "      <th></th>\n",
              "      <th>movieId</th>\n",
              "      <th>title</th>\n",
              "      <th>genres</th>\n",
              "    </tr>\n",
              "  </thead>\n",
              "  <tbody>\n",
              "    <tr>\n",
              "      <th>0</th>\n",
              "      <td>1</td>\n",
              "      <td>Toy Story (1995)</td>\n",
              "      <td>Adventure|Animation|Children|Comedy|Fantasy</td>\n",
              "    </tr>\n",
              "    <tr>\n",
              "      <th>1</th>\n",
              "      <td>2</td>\n",
              "      <td>Jumanji (1995)</td>\n",
              "      <td>Adventure|Children|Fantasy</td>\n",
              "    </tr>\n",
              "    <tr>\n",
              "      <th>2</th>\n",
              "      <td>3</td>\n",
              "      <td>Grumpier Old Men (1995)</td>\n",
              "      <td>Comedy|Romance</td>\n",
              "    </tr>\n",
              "    <tr>\n",
              "      <th>3</th>\n",
              "      <td>4</td>\n",
              "      <td>Waiting to Exhale (1995)</td>\n",
              "      <td>Comedy|Drama|Romance</td>\n",
              "    </tr>\n",
              "    <tr>\n",
              "      <th>4</th>\n",
              "      <td>5</td>\n",
              "      <td>Father of the Bride Part II (1995)</td>\n",
              "      <td>Comedy</td>\n",
              "    </tr>\n",
              "  </tbody>\n",
              "</table>\n",
              "</div>"
            ],
            "text/plain": [
              "   movieId  ...                                       genres\n",
              "0        1  ...  Adventure|Animation|Children|Comedy|Fantasy\n",
              "1        2  ...                   Adventure|Children|Fantasy\n",
              "2        3  ...                               Comedy|Romance\n",
              "3        4  ...                         Comedy|Drama|Romance\n",
              "4        5  ...                                       Comedy\n",
              "\n",
              "[5 rows x 3 columns]"
            ]
          },
          "metadata": {
            "tags": []
          },
          "execution_count": 1
        }
      ]
    },
    {
      "cell_type": "code",
      "metadata": {
        "id": "QdT4HalXEszl",
        "colab_type": "code",
        "outputId": "97f1f6cf-0134-4918-dd84-27de250288a2",
        "colab": {
          "base_uri": "https://localhost:8080/",
          "height": 195
        }
      },
      "source": [
        "filmes_df.columns = ['filme_id', 'titulo', 'generos']\n",
        "filmes_df.head()"
      ],
      "execution_count": 2,
      "outputs": [
        {
          "output_type": "execute_result",
          "data": {
            "text/html": [
              "<div>\n",
              "<style scoped>\n",
              "    .dataframe tbody tr th:only-of-type {\n",
              "        vertical-align: middle;\n",
              "    }\n",
              "\n",
              "    .dataframe tbody tr th {\n",
              "        vertical-align: top;\n",
              "    }\n",
              "\n",
              "    .dataframe thead th {\n",
              "        text-align: right;\n",
              "    }\n",
              "</style>\n",
              "<table border=\"1\" class=\"dataframe\">\n",
              "  <thead>\n",
              "    <tr style=\"text-align: right;\">\n",
              "      <th></th>\n",
              "      <th>filme_id</th>\n",
              "      <th>titulo</th>\n",
              "      <th>generos</th>\n",
              "    </tr>\n",
              "  </thead>\n",
              "  <tbody>\n",
              "    <tr>\n",
              "      <th>0</th>\n",
              "      <td>1</td>\n",
              "      <td>Toy Story (1995)</td>\n",
              "      <td>Adventure|Animation|Children|Comedy|Fantasy</td>\n",
              "    </tr>\n",
              "    <tr>\n",
              "      <th>1</th>\n",
              "      <td>2</td>\n",
              "      <td>Jumanji (1995)</td>\n",
              "      <td>Adventure|Children|Fantasy</td>\n",
              "    </tr>\n",
              "    <tr>\n",
              "      <th>2</th>\n",
              "      <td>3</td>\n",
              "      <td>Grumpier Old Men (1995)</td>\n",
              "      <td>Comedy|Romance</td>\n",
              "    </tr>\n",
              "    <tr>\n",
              "      <th>3</th>\n",
              "      <td>4</td>\n",
              "      <td>Waiting to Exhale (1995)</td>\n",
              "      <td>Comedy|Drama|Romance</td>\n",
              "    </tr>\n",
              "    <tr>\n",
              "      <th>4</th>\n",
              "      <td>5</td>\n",
              "      <td>Father of the Bride Part II (1995)</td>\n",
              "      <td>Comedy</td>\n",
              "    </tr>\n",
              "  </tbody>\n",
              "</table>\n",
              "</div>"
            ],
            "text/plain": [
              "   filme_id  ...                                      generos\n",
              "0         1  ...  Adventure|Animation|Children|Comedy|Fantasy\n",
              "1         2  ...                   Adventure|Children|Fantasy\n",
              "2         3  ...                               Comedy|Romance\n",
              "3         4  ...                         Comedy|Drama|Romance\n",
              "4         5  ...                                       Comedy\n",
              "\n",
              "[5 rows x 3 columns]"
            ]
          },
          "metadata": {
            "tags": []
          },
          "execution_count": 2
        }
      ]
    },
    {
      "cell_type": "code",
      "metadata": {
        "id": "osPIgJ5eI-Co",
        "colab_type": "code",
        "outputId": "d5eb43dc-ca27-4da4-d313-424a56aa2f0c",
        "colab": {
          "base_uri": "https://localhost:8080/",
          "height": 34
        }
      },
      "source": [
        "type(filmes_df)"
      ],
      "execution_count": 3,
      "outputs": [
        {
          "output_type": "execute_result",
          "data": {
            "text/plain": [
              "pandas.core.frame.DataFrame"
            ]
          },
          "metadata": {
            "tags": []
          },
          "execution_count": 3
        }
      ]
    },
    {
      "cell_type": "code",
      "metadata": {
        "id": "jaAIzVIjH7gH",
        "colab_type": "code",
        "outputId": "3c17e214-893c-4d34-95d1-54506e0229d0",
        "colab": {
          "base_uri": "https://localhost:8080/",
          "height": 34
        }
      },
      "source": [
        "type(filmes_df.generos)"
      ],
      "execution_count": 4,
      "outputs": [
        {
          "output_type": "execute_result",
          "data": {
            "text/plain": [
              "pandas.core.series.Series"
            ]
          },
          "metadata": {
            "tags": []
          },
          "execution_count": 4
        }
      ]
    },
    {
      "cell_type": "code",
      "metadata": {
        "id": "eIPgDOlvJMtp",
        "colab_type": "code",
        "outputId": "a3c6ef00-7937-4b36-bb99-870fd6cf4573",
        "colab": {
          "base_uri": "https://localhost:8080/",
          "height": 34
        }
      },
      "source": [
        "filmes_df.generos.str"
      ],
      "execution_count": 5,
      "outputs": [
        {
          "output_type": "execute_result",
          "data": {
            "text/plain": [
              "<pandas.core.strings.StringMethods at 0x7f2e1de8a320>"
            ]
          },
          "metadata": {
            "tags": []
          },
          "execution_count": 5
        }
      ]
    },
    {
      "cell_type": "code",
      "metadata": {
        "id": "sEPod00fJEgY",
        "colab_type": "code",
        "outputId": "1cefbebc-3e01-4de2-f431-76fc8f3cd5de",
        "colab": {
          "base_uri": "https://localhost:8080/",
          "height": 218
        }
      },
      "source": [
        "filmes_df.generos"
      ],
      "execution_count": 6,
      "outputs": [
        {
          "output_type": "execute_result",
          "data": {
            "text/plain": [
              "0       Adventure|Animation|Children|Comedy|Fantasy\n",
              "1                        Adventure|Children|Fantasy\n",
              "2                                    Comedy|Romance\n",
              "3                              Comedy|Drama|Romance\n",
              "4                                            Comedy\n",
              "                           ...                     \n",
              "9737                Action|Animation|Comedy|Fantasy\n",
              "9738                       Animation|Comedy|Fantasy\n",
              "9739                                          Drama\n",
              "9740                               Action|Animation\n",
              "9741                                         Comedy\n",
              "Name: generos, Length: 9742, dtype: object"
            ]
          },
          "metadata": {
            "tags": []
          },
          "execution_count": 6
        }
      ]
    },
    {
      "cell_type": "code",
      "metadata": {
        "id": "UZ6iQM6WJH8o",
        "colab_type": "code",
        "outputId": "a5601195-c7d3-4d9a-f085-25180b625179",
        "colab": {
          "base_uri": "https://localhost:8080/",
          "height": 418
        }
      },
      "source": [
        "filmes_df.generos.str.get_dummies()"
      ],
      "execution_count": 7,
      "outputs": [
        {
          "output_type": "execute_result",
          "data": {
            "text/html": [
              "<div>\n",
              "<style scoped>\n",
              "    .dataframe tbody tr th:only-of-type {\n",
              "        vertical-align: middle;\n",
              "    }\n",
              "\n",
              "    .dataframe tbody tr th {\n",
              "        vertical-align: top;\n",
              "    }\n",
              "\n",
              "    .dataframe thead th {\n",
              "        text-align: right;\n",
              "    }\n",
              "</style>\n",
              "<table border=\"1\" class=\"dataframe\">\n",
              "  <thead>\n",
              "    <tr style=\"text-align: right;\">\n",
              "      <th></th>\n",
              "      <th>(no genres listed)</th>\n",
              "      <th>Action</th>\n",
              "      <th>Adventure</th>\n",
              "      <th>Animation</th>\n",
              "      <th>Children</th>\n",
              "      <th>Comedy</th>\n",
              "      <th>Crime</th>\n",
              "      <th>Documentary</th>\n",
              "      <th>Drama</th>\n",
              "      <th>Fantasy</th>\n",
              "      <th>Film-Noir</th>\n",
              "      <th>Horror</th>\n",
              "      <th>IMAX</th>\n",
              "      <th>Musical</th>\n",
              "      <th>Mystery</th>\n",
              "      <th>Romance</th>\n",
              "      <th>Sci-Fi</th>\n",
              "      <th>Thriller</th>\n",
              "      <th>War</th>\n",
              "      <th>Western</th>\n",
              "    </tr>\n",
              "  </thead>\n",
              "  <tbody>\n",
              "    <tr>\n",
              "      <th>0</th>\n",
              "      <td>0</td>\n",
              "      <td>0</td>\n",
              "      <td>1</td>\n",
              "      <td>1</td>\n",
              "      <td>1</td>\n",
              "      <td>1</td>\n",
              "      <td>0</td>\n",
              "      <td>0</td>\n",
              "      <td>0</td>\n",
              "      <td>1</td>\n",
              "      <td>0</td>\n",
              "      <td>0</td>\n",
              "      <td>0</td>\n",
              "      <td>0</td>\n",
              "      <td>0</td>\n",
              "      <td>0</td>\n",
              "      <td>0</td>\n",
              "      <td>0</td>\n",
              "      <td>0</td>\n",
              "      <td>0</td>\n",
              "    </tr>\n",
              "    <tr>\n",
              "      <th>1</th>\n",
              "      <td>0</td>\n",
              "      <td>0</td>\n",
              "      <td>1</td>\n",
              "      <td>0</td>\n",
              "      <td>1</td>\n",
              "      <td>0</td>\n",
              "      <td>0</td>\n",
              "      <td>0</td>\n",
              "      <td>0</td>\n",
              "      <td>1</td>\n",
              "      <td>0</td>\n",
              "      <td>0</td>\n",
              "      <td>0</td>\n",
              "      <td>0</td>\n",
              "      <td>0</td>\n",
              "      <td>0</td>\n",
              "      <td>0</td>\n",
              "      <td>0</td>\n",
              "      <td>0</td>\n",
              "      <td>0</td>\n",
              "    </tr>\n",
              "    <tr>\n",
              "      <th>2</th>\n",
              "      <td>0</td>\n",
              "      <td>0</td>\n",
              "      <td>0</td>\n",
              "      <td>0</td>\n",
              "      <td>0</td>\n",
              "      <td>1</td>\n",
              "      <td>0</td>\n",
              "      <td>0</td>\n",
              "      <td>0</td>\n",
              "      <td>0</td>\n",
              "      <td>0</td>\n",
              "      <td>0</td>\n",
              "      <td>0</td>\n",
              "      <td>0</td>\n",
              "      <td>0</td>\n",
              "      <td>1</td>\n",
              "      <td>0</td>\n",
              "      <td>0</td>\n",
              "      <td>0</td>\n",
              "      <td>0</td>\n",
              "    </tr>\n",
              "    <tr>\n",
              "      <th>3</th>\n",
              "      <td>0</td>\n",
              "      <td>0</td>\n",
              "      <td>0</td>\n",
              "      <td>0</td>\n",
              "      <td>0</td>\n",
              "      <td>1</td>\n",
              "      <td>0</td>\n",
              "      <td>0</td>\n",
              "      <td>1</td>\n",
              "      <td>0</td>\n",
              "      <td>0</td>\n",
              "      <td>0</td>\n",
              "      <td>0</td>\n",
              "      <td>0</td>\n",
              "      <td>0</td>\n",
              "      <td>1</td>\n",
              "      <td>0</td>\n",
              "      <td>0</td>\n",
              "      <td>0</td>\n",
              "      <td>0</td>\n",
              "    </tr>\n",
              "    <tr>\n",
              "      <th>4</th>\n",
              "      <td>0</td>\n",
              "      <td>0</td>\n",
              "      <td>0</td>\n",
              "      <td>0</td>\n",
              "      <td>0</td>\n",
              "      <td>1</td>\n",
              "      <td>0</td>\n",
              "      <td>0</td>\n",
              "      <td>0</td>\n",
              "      <td>0</td>\n",
              "      <td>0</td>\n",
              "      <td>0</td>\n",
              "      <td>0</td>\n",
              "      <td>0</td>\n",
              "      <td>0</td>\n",
              "      <td>0</td>\n",
              "      <td>0</td>\n",
              "      <td>0</td>\n",
              "      <td>0</td>\n",
              "      <td>0</td>\n",
              "    </tr>\n",
              "    <tr>\n",
              "      <th>...</th>\n",
              "      <td>...</td>\n",
              "      <td>...</td>\n",
              "      <td>...</td>\n",
              "      <td>...</td>\n",
              "      <td>...</td>\n",
              "      <td>...</td>\n",
              "      <td>...</td>\n",
              "      <td>...</td>\n",
              "      <td>...</td>\n",
              "      <td>...</td>\n",
              "      <td>...</td>\n",
              "      <td>...</td>\n",
              "      <td>...</td>\n",
              "      <td>...</td>\n",
              "      <td>...</td>\n",
              "      <td>...</td>\n",
              "      <td>...</td>\n",
              "      <td>...</td>\n",
              "      <td>...</td>\n",
              "      <td>...</td>\n",
              "    </tr>\n",
              "    <tr>\n",
              "      <th>9737</th>\n",
              "      <td>0</td>\n",
              "      <td>1</td>\n",
              "      <td>0</td>\n",
              "      <td>1</td>\n",
              "      <td>0</td>\n",
              "      <td>1</td>\n",
              "      <td>0</td>\n",
              "      <td>0</td>\n",
              "      <td>0</td>\n",
              "      <td>1</td>\n",
              "      <td>0</td>\n",
              "      <td>0</td>\n",
              "      <td>0</td>\n",
              "      <td>0</td>\n",
              "      <td>0</td>\n",
              "      <td>0</td>\n",
              "      <td>0</td>\n",
              "      <td>0</td>\n",
              "      <td>0</td>\n",
              "      <td>0</td>\n",
              "    </tr>\n",
              "    <tr>\n",
              "      <th>9738</th>\n",
              "      <td>0</td>\n",
              "      <td>0</td>\n",
              "      <td>0</td>\n",
              "      <td>1</td>\n",
              "      <td>0</td>\n",
              "      <td>1</td>\n",
              "      <td>0</td>\n",
              "      <td>0</td>\n",
              "      <td>0</td>\n",
              "      <td>1</td>\n",
              "      <td>0</td>\n",
              "      <td>0</td>\n",
              "      <td>0</td>\n",
              "      <td>0</td>\n",
              "      <td>0</td>\n",
              "      <td>0</td>\n",
              "      <td>0</td>\n",
              "      <td>0</td>\n",
              "      <td>0</td>\n",
              "      <td>0</td>\n",
              "    </tr>\n",
              "    <tr>\n",
              "      <th>9739</th>\n",
              "      <td>0</td>\n",
              "      <td>0</td>\n",
              "      <td>0</td>\n",
              "      <td>0</td>\n",
              "      <td>0</td>\n",
              "      <td>0</td>\n",
              "      <td>0</td>\n",
              "      <td>0</td>\n",
              "      <td>1</td>\n",
              "      <td>0</td>\n",
              "      <td>0</td>\n",
              "      <td>0</td>\n",
              "      <td>0</td>\n",
              "      <td>0</td>\n",
              "      <td>0</td>\n",
              "      <td>0</td>\n",
              "      <td>0</td>\n",
              "      <td>0</td>\n",
              "      <td>0</td>\n",
              "      <td>0</td>\n",
              "    </tr>\n",
              "    <tr>\n",
              "      <th>9740</th>\n",
              "      <td>0</td>\n",
              "      <td>1</td>\n",
              "      <td>0</td>\n",
              "      <td>1</td>\n",
              "      <td>0</td>\n",
              "      <td>0</td>\n",
              "      <td>0</td>\n",
              "      <td>0</td>\n",
              "      <td>0</td>\n",
              "      <td>0</td>\n",
              "      <td>0</td>\n",
              "      <td>0</td>\n",
              "      <td>0</td>\n",
              "      <td>0</td>\n",
              "      <td>0</td>\n",
              "      <td>0</td>\n",
              "      <td>0</td>\n",
              "      <td>0</td>\n",
              "      <td>0</td>\n",
              "      <td>0</td>\n",
              "    </tr>\n",
              "    <tr>\n",
              "      <th>9741</th>\n",
              "      <td>0</td>\n",
              "      <td>0</td>\n",
              "      <td>0</td>\n",
              "      <td>0</td>\n",
              "      <td>0</td>\n",
              "      <td>1</td>\n",
              "      <td>0</td>\n",
              "      <td>0</td>\n",
              "      <td>0</td>\n",
              "      <td>0</td>\n",
              "      <td>0</td>\n",
              "      <td>0</td>\n",
              "      <td>0</td>\n",
              "      <td>0</td>\n",
              "      <td>0</td>\n",
              "      <td>0</td>\n",
              "      <td>0</td>\n",
              "      <td>0</td>\n",
              "      <td>0</td>\n",
              "      <td>0</td>\n",
              "    </tr>\n",
              "  </tbody>\n",
              "</table>\n",
              "<p>9742 rows × 20 columns</p>\n",
              "</div>"
            ],
            "text/plain": [
              "      (no genres listed)  Action  Adventure  ...  Thriller  War  Western\n",
              "0                      0       0          1  ...         0    0        0\n",
              "1                      0       0          1  ...         0    0        0\n",
              "2                      0       0          0  ...         0    0        0\n",
              "3                      0       0          0  ...         0    0        0\n",
              "4                      0       0          0  ...         0    0        0\n",
              "...                  ...     ...        ...  ...       ...  ...      ...\n",
              "9737                   0       1          0  ...         0    0        0\n",
              "9738                   0       0          0  ...         0    0        0\n",
              "9739                   0       0          0  ...         0    0        0\n",
              "9740                   0       1          0  ...         0    0        0\n",
              "9741                   0       0          0  ...         0    0        0\n",
              "\n",
              "[9742 rows x 20 columns]"
            ]
          },
          "metadata": {
            "tags": []
          },
          "execution_count": 7
        }
      ]
    },
    {
      "cell_type": "code",
      "metadata": {
        "id": "R7vGY5yWJgjq",
        "colab_type": "code",
        "outputId": "8eb2f0d2-82b8-4f6c-b806-4669005ef15a",
        "colab": {
          "base_uri": "https://localhost:8080/",
          "height": 400
        }
      },
      "source": [
        "generos_df = filmes_df.generos.str.get_dummies()\n",
        "#axis eixo de concatenacao\n",
        "dados_filmes_df = pd.concat([filmes_df, generos_df], axis=1)\n",
        "dados_filmes_df.head()"
      ],
      "execution_count": 8,
      "outputs": [
        {
          "output_type": "execute_result",
          "data": {
            "text/html": [
              "<div>\n",
              "<style scoped>\n",
              "    .dataframe tbody tr th:only-of-type {\n",
              "        vertical-align: middle;\n",
              "    }\n",
              "\n",
              "    .dataframe tbody tr th {\n",
              "        vertical-align: top;\n",
              "    }\n",
              "\n",
              "    .dataframe thead th {\n",
              "        text-align: right;\n",
              "    }\n",
              "</style>\n",
              "<table border=\"1\" class=\"dataframe\">\n",
              "  <thead>\n",
              "    <tr style=\"text-align: right;\">\n",
              "      <th></th>\n",
              "      <th>filme_id</th>\n",
              "      <th>titulo</th>\n",
              "      <th>generos</th>\n",
              "      <th>(no genres listed)</th>\n",
              "      <th>Action</th>\n",
              "      <th>Adventure</th>\n",
              "      <th>Animation</th>\n",
              "      <th>Children</th>\n",
              "      <th>Comedy</th>\n",
              "      <th>Crime</th>\n",
              "      <th>Documentary</th>\n",
              "      <th>Drama</th>\n",
              "      <th>Fantasy</th>\n",
              "      <th>Film-Noir</th>\n",
              "      <th>Horror</th>\n",
              "      <th>IMAX</th>\n",
              "      <th>Musical</th>\n",
              "      <th>Mystery</th>\n",
              "      <th>Romance</th>\n",
              "      <th>Sci-Fi</th>\n",
              "      <th>Thriller</th>\n",
              "      <th>War</th>\n",
              "      <th>Western</th>\n",
              "    </tr>\n",
              "  </thead>\n",
              "  <tbody>\n",
              "    <tr>\n",
              "      <th>0</th>\n",
              "      <td>1</td>\n",
              "      <td>Toy Story (1995)</td>\n",
              "      <td>Adventure|Animation|Children|Comedy|Fantasy</td>\n",
              "      <td>0</td>\n",
              "      <td>0</td>\n",
              "      <td>1</td>\n",
              "      <td>1</td>\n",
              "      <td>1</td>\n",
              "      <td>1</td>\n",
              "      <td>0</td>\n",
              "      <td>0</td>\n",
              "      <td>0</td>\n",
              "      <td>1</td>\n",
              "      <td>0</td>\n",
              "      <td>0</td>\n",
              "      <td>0</td>\n",
              "      <td>0</td>\n",
              "      <td>0</td>\n",
              "      <td>0</td>\n",
              "      <td>0</td>\n",
              "      <td>0</td>\n",
              "      <td>0</td>\n",
              "      <td>0</td>\n",
              "    </tr>\n",
              "    <tr>\n",
              "      <th>1</th>\n",
              "      <td>2</td>\n",
              "      <td>Jumanji (1995)</td>\n",
              "      <td>Adventure|Children|Fantasy</td>\n",
              "      <td>0</td>\n",
              "      <td>0</td>\n",
              "      <td>1</td>\n",
              "      <td>0</td>\n",
              "      <td>1</td>\n",
              "      <td>0</td>\n",
              "      <td>0</td>\n",
              "      <td>0</td>\n",
              "      <td>0</td>\n",
              "      <td>1</td>\n",
              "      <td>0</td>\n",
              "      <td>0</td>\n",
              "      <td>0</td>\n",
              "      <td>0</td>\n",
              "      <td>0</td>\n",
              "      <td>0</td>\n",
              "      <td>0</td>\n",
              "      <td>0</td>\n",
              "      <td>0</td>\n",
              "      <td>0</td>\n",
              "    </tr>\n",
              "    <tr>\n",
              "      <th>2</th>\n",
              "      <td>3</td>\n",
              "      <td>Grumpier Old Men (1995)</td>\n",
              "      <td>Comedy|Romance</td>\n",
              "      <td>0</td>\n",
              "      <td>0</td>\n",
              "      <td>0</td>\n",
              "      <td>0</td>\n",
              "      <td>0</td>\n",
              "      <td>1</td>\n",
              "      <td>0</td>\n",
              "      <td>0</td>\n",
              "      <td>0</td>\n",
              "      <td>0</td>\n",
              "      <td>0</td>\n",
              "      <td>0</td>\n",
              "      <td>0</td>\n",
              "      <td>0</td>\n",
              "      <td>0</td>\n",
              "      <td>1</td>\n",
              "      <td>0</td>\n",
              "      <td>0</td>\n",
              "      <td>0</td>\n",
              "      <td>0</td>\n",
              "    </tr>\n",
              "    <tr>\n",
              "      <th>3</th>\n",
              "      <td>4</td>\n",
              "      <td>Waiting to Exhale (1995)</td>\n",
              "      <td>Comedy|Drama|Romance</td>\n",
              "      <td>0</td>\n",
              "      <td>0</td>\n",
              "      <td>0</td>\n",
              "      <td>0</td>\n",
              "      <td>0</td>\n",
              "      <td>1</td>\n",
              "      <td>0</td>\n",
              "      <td>0</td>\n",
              "      <td>1</td>\n",
              "      <td>0</td>\n",
              "      <td>0</td>\n",
              "      <td>0</td>\n",
              "      <td>0</td>\n",
              "      <td>0</td>\n",
              "      <td>0</td>\n",
              "      <td>1</td>\n",
              "      <td>0</td>\n",
              "      <td>0</td>\n",
              "      <td>0</td>\n",
              "      <td>0</td>\n",
              "    </tr>\n",
              "    <tr>\n",
              "      <th>4</th>\n",
              "      <td>5</td>\n",
              "      <td>Father of the Bride Part II (1995)</td>\n",
              "      <td>Comedy</td>\n",
              "      <td>0</td>\n",
              "      <td>0</td>\n",
              "      <td>0</td>\n",
              "      <td>0</td>\n",
              "      <td>0</td>\n",
              "      <td>1</td>\n",
              "      <td>0</td>\n",
              "      <td>0</td>\n",
              "      <td>0</td>\n",
              "      <td>0</td>\n",
              "      <td>0</td>\n",
              "      <td>0</td>\n",
              "      <td>0</td>\n",
              "      <td>0</td>\n",
              "      <td>0</td>\n",
              "      <td>0</td>\n",
              "      <td>0</td>\n",
              "      <td>0</td>\n",
              "      <td>0</td>\n",
              "      <td>0</td>\n",
              "    </tr>\n",
              "  </tbody>\n",
              "</table>\n",
              "</div>"
            ],
            "text/plain": [
              "   filme_id                              titulo  ... War  Western\n",
              "0         1                    Toy Story (1995)  ...   0        0\n",
              "1         2                      Jumanji (1995)  ...   0        0\n",
              "2         3             Grumpier Old Men (1995)  ...   0        0\n",
              "3         4            Waiting to Exhale (1995)  ...   0        0\n",
              "4         5  Father of the Bride Part II (1995)  ...   0        0\n",
              "\n",
              "[5 rows x 23 columns]"
            ]
          },
          "metadata": {
            "tags": []
          },
          "execution_count": 8
        }
      ]
    },
    {
      "cell_type": "code",
      "metadata": {
        "id": "Thjtu-3CKCh-",
        "colab_type": "code",
        "outputId": "a3dc8d1a-67bb-434d-a992-230c2a63cc6d",
        "colab": {
          "base_uri": "https://localhost:8080/",
          "height": 235
        }
      },
      "source": [
        "#para escalar os dados usar a biblioteca de escalamento\n",
        "from sklearn.preprocessing import StandardScaler\n",
        "\n",
        "#treina o escalamneto\n",
        "scaler = StandardScaler()\n",
        "generos_escalados_ndarray = scaler.fit_transform(generos_df)\n",
        "\n",
        "generos_escalados_ndarray"
      ],
      "execution_count": 9,
      "outputs": [
        {
          "output_type": "execute_result",
          "data": {
            "text/plain": [
              "array([[-0.05917995, -0.48060698,  2.59101927, ..., -0.49125897,\n",
              "        -0.20201972, -0.13206534],\n",
              "       [-0.05917995, -0.48060698,  2.59101927, ..., -0.49125897,\n",
              "        -0.20201972, -0.13206534],\n",
              "       [-0.05917995, -0.48060698, -0.3859485 , ..., -0.49125897,\n",
              "        -0.20201972, -0.13206534],\n",
              "       ...,\n",
              "       [-0.05917995, -0.48060698, -0.3859485 , ..., -0.49125897,\n",
              "        -0.20201972, -0.13206534],\n",
              "       [-0.05917995,  2.0807022 , -0.3859485 , ..., -0.49125897,\n",
              "        -0.20201972, -0.13206534],\n",
              "       [-0.05917995, -0.48060698, -0.3859485 , ..., -0.49125897,\n",
              "        -0.20201972, -0.13206534]])"
            ]
          },
          "metadata": {
            "tags": []
          },
          "execution_count": 9
        }
      ]
    },
    {
      "cell_type": "code",
      "metadata": {
        "id": "9amU7VyOOfRT",
        "colab_type": "code",
        "outputId": "4a054e66-8172-4650-989e-beb605cce8c1",
        "colab": {
          "base_uri": "https://localhost:8080/",
          "height": 34
        }
      },
      "source": [
        "generos_escalados_ndarray.shape"
      ],
      "execution_count": 10,
      "outputs": [
        {
          "output_type": "execute_result",
          "data": {
            "text/plain": [
              "(9742, 20)"
            ]
          },
          "metadata": {
            "tags": []
          },
          "execution_count": 10
        }
      ]
    },
    {
      "cell_type": "code",
      "metadata": {
        "id": "vKouO_kks4kG",
        "colab_type": "code",
        "outputId": "aac76d3a-1d0c-47f8-e1ec-fb49fd46919b",
        "colab": {
          "base_uri": "https://localhost:8080/",
          "height": 487
        }
      },
      "source": [
        "#escalado Toy Story\n",
        "print(generos_escalados_ndarray[53])\n",
        "print(dados_filmes_df.loc[53])"
      ],
      "execution_count": 11,
      "outputs": [
        {
          "output_type": "stream",
          "text": [
            "[-0.05917995 -0.48060698  2.59101927 -0.25867916  3.69752441 -0.7921263\n",
            " -0.37463158 -0.21748944 -0.90024672  3.3920166  -0.09492563 -0.3340552\n",
            " -0.12839708 -0.18841895 -0.24998637 -0.44263346 -0.33443476 -0.49125897\n",
            " -0.20201972 -0.13206534]\n",
            "filme_id                                              60\n",
            "titulo                Indian in the Cupboard, The (1995)\n",
            "generos                       Adventure|Children|Fantasy\n",
            "(no genres listed)                                     0\n",
            "Action                                                 0\n",
            "Adventure                                              1\n",
            "Animation                                              0\n",
            "Children                                               1\n",
            "Comedy                                                 0\n",
            "Crime                                                  0\n",
            "Documentary                                            0\n",
            "Drama                                                  0\n",
            "Fantasy                                                1\n",
            "Film-Noir                                              0\n",
            "Horror                                                 0\n",
            "IMAX                                                   0\n",
            "Musical                                                0\n",
            "Mystery                                                0\n",
            "Romance                                                0\n",
            "Sci-Fi                                                 0\n",
            "Thriller                                               0\n",
            "War                                                    0\n",
            "Western                                                0\n",
            "Name: 53, dtype: object\n"
          ],
          "name": "stdout"
        }
      ]
    },
    {
      "cell_type": "code",
      "metadata": {
        "id": "nZqTG5yr6QZX",
        "colab_type": "code",
        "outputId": "dac60681-4ab7-40c5-c8d2-8f26f3372df0",
        "colab": {
          "base_uri": "https://localhost:8080/",
          "height": 67
        }
      },
      "source": [
        "print(dados_filmes_df['Adventure'].sum())\n",
        "print(dados_filmes_df['Children'].sum())\n",
        "print(dados_filmes_df['Fantasy'].sum())"
      ],
      "execution_count": 12,
      "outputs": [
        {
          "output_type": "stream",
          "text": [
            "1263\n",
            "664\n",
            "779\n"
          ],
          "name": "stdout"
        }
      ]
    },
    {
      "cell_type": "code",
      "metadata": {
        "id": "RrxB3da2GZet",
        "colab_type": "code",
        "outputId": "91aa7626-d82b-4116-baab-c4023ae5c20c",
        "colab": {
          "base_uri": "https://localhost:8080/",
          "height": 470
        }
      },
      "source": [
        "#filter\n",
        "print(dados_filmes_df[dados_filmes_df.generos == 'Adventure|Children|Fantasy'])"
      ],
      "execution_count": 13,
      "outputs": [
        {
          "output_type": "stream",
          "text": [
            "      filme_id                                             titulo  ... War  Western\n",
            "1            2                                     Jumanji (1995)  ...   0        0\n",
            "53          60                 Indian in the Cupboard, The (1995)  ...   0        0\n",
            "109        126                  NeverEnding Story III, The (1994)  ...   0        0\n",
            "767       1009                    Escape to Witch Mountain (1975)  ...   0        0\n",
            "1514      2043          Darby O'Gill and the Little People (1959)  ...   0        0\n",
            "1556      2093                                Return to Oz (1985)  ...   0        0\n",
            "1617      2161                      NeverEnding Story, The (1984)  ...   0        0\n",
            "1618      2162  NeverEnding Story II: The Next Chapter, The (1...  ...   0        0\n",
            "1799      2399                      Santa Claus: The Movie (1985)  ...   0        0\n",
            "3574      4896  Harry Potter and the Sorcerer's Stone (a.k.a. ...  ...   0        0\n",
            "6075     41566  Chronicles of Narnia: The Lion, the Witch and ...  ...   0        0\n",
            "6389     50601                        Bridge to Terabithia (2007)  ...   0        0\n",
            "6629     56171                         Golden Compass, The (2007)  ...   0        0\n",
            "6655     56915        Water Horse: Legend of the Deep, The (2007)  ...   0        0\n",
            "6751     59501   Chronicles of Narnia: Prince Caspian, The (2008)  ...   0        0\n",
            "7426     80748                         Alice in Wonderland (1933)  ...   0        0\n",
            "7478     82169  Chronicles of Narnia: The Voyage of the Dawn T...  ...   0        0\n",
            "8230    104074              Percy Jackson: Sea of Monsters (2013)  ...   0        0\n",
            "8641    119655                                 Seventh Son (2014)  ...   0        0\n",
            "8719    126142                 The Cave of the Golden Rose (1991)  ...   0        0\n",
            "8800    130450                                         Pan (2015)  ...   0        0\n",
            "9294    158813             Alice Through the Looking Glass (2016)  ...   0        0\n",
            "9336    160573                               Pete's Dragon (2016)  ...   0        0\n",
            "9565    173873                          Gulliver's Travels (1996)  ...   0        0\n",
            "\n",
            "[24 rows x 23 columns]\n"
          ],
          "name": "stdout"
        }
      ]
    },
    {
      "cell_type": "code",
      "metadata": {
        "id": "s4K3SoZ8LTQS",
        "colab_type": "code",
        "outputId": "8a2261a2-ec11-4b31-d5a9-273b767de59e",
        "colab": {
          "base_uri": "https://localhost:8080/",
          "height": 67
        }
      },
      "source": [
        "#agrupar os filmes usando Cluesteriracao - KMeans\n",
        "from sklearn.cluster import KMeans\n",
        "\n",
        "#criar um modele, passando o numero de grupos n_clusters\n",
        "modelo = KMeans(n_clusters = 3)\n",
        "modelo.fit(generos_escalados_ndarray)"
      ],
      "execution_count": 14,
      "outputs": [
        {
          "output_type": "execute_result",
          "data": {
            "text/plain": [
              "KMeans(algorithm='auto', copy_x=True, init='k-means++', max_iter=300,\n",
              "       n_clusters=3, n_init=10, n_jobs=None, precompute_distances='auto',\n",
              "       random_state=None, tol=0.0001, verbose=0)"
            ]
          },
          "metadata": {
            "tags": []
          },
          "execution_count": 14
        }
      ]
    },
    {
      "cell_type": "code",
      "metadata": {
        "id": "0f93wnCxONmG",
        "colab_type": "code",
        "outputId": "243b2dc3-7526-4fea-9170-fa5f4050bd73",
        "colab": {
          "base_uri": "https://localhost:8080/",
          "height": 34
        }
      },
      "source": [
        "#imprimir os grupos, pegar os rotulos com labels\n",
        "print('grupos {}'.format(modelo.labels_))"
      ],
      "execution_count": 15,
      "outputs": [
        {
          "output_type": "stream",
          "text": [
            "grupos [0 0 2 ... 2 0 2]\n"
          ],
          "name": "stdout"
        }
      ]
    },
    {
      "cell_type": "code",
      "metadata": {
        "id": "oNJL5Dt6Obhe",
        "colab_type": "code",
        "outputId": "49e6d059-2f3a-4ff5-db94-5b28e4c92da8",
        "colab": {
          "base_uri": "https://localhost:8080/",
          "height": 34
        }
      },
      "source": [
        "#o f é o format\n",
        "print(f'grupos {modelo.labels_}')"
      ],
      "execution_count": 16,
      "outputs": [
        {
          "output_type": "stream",
          "text": [
            "grupos [0 0 2 ... 2 0 2]\n"
          ],
          "name": "stdout"
        }
      ]
    },
    {
      "cell_type": "code",
      "metadata": {
        "id": "MPGcqHKdOf1O",
        "colab_type": "code",
        "outputId": "822d18b5-e722-4112-e5c5-1971f5391ea2",
        "colab": {
          "base_uri": "https://localhost:8080/",
          "height": 302
        }
      },
      "source": [
        "print(generos_df.columns)\n",
        "#centro de cada grupo\n",
        "print(modelo.cluster_centers_)"
      ],
      "execution_count": 17,
      "outputs": [
        {
          "output_type": "stream",
          "text": [
            "Index(['(no genres listed)', 'Action', 'Adventure', 'Animation', 'Children',\n",
            "       'Comedy', 'Crime', 'Documentary', 'Drama', 'Fantasy', 'Film-Noir',\n",
            "       'Horror', 'IMAX', 'Musical', 'Mystery', 'Romance', 'Sci-Fi', 'Thriller',\n",
            "       'War', 'Western'],\n",
            "      dtype='object')\n",
            "[[-0.05917995  0.6500946   1.5907581   1.45710115  1.26190882 -0.05099364\n",
            "  -0.31264629 -0.2104852  -0.59310403  1.05926094 -0.09492563 -0.23483305\n",
            "   0.6085791   0.2272589  -0.15107252 -0.28740052  0.61094766 -0.34975563\n",
            "  -0.06338323 -0.04802088]\n",
            " [-0.05917995  0.39028185 -0.19544288 -0.23580452 -0.26198711 -0.56510891\n",
            "   0.88501136 -0.21338072  0.08383099 -0.16583387  0.2859946   0.41975919\n",
            "  -0.06760303 -0.17669595  0.64756109 -0.31468801  0.08113456  1.45561922\n",
            "  -0.11849702 -0.07290435]\n",
            " [ 0.03654163 -0.30029898 -0.28709518 -0.24087469 -0.18612433  0.23156758\n",
            "  -0.27304964  0.1310944   0.10277572 -0.17728195 -0.08963118 -0.10974931\n",
            "  -0.11262407  0.01688433 -0.2175259   0.18807976 -0.17104971 -0.48664411\n",
            "   0.06058591  0.0393353 ]]\n"
          ],
          "name": "stdout"
        }
      ]
    },
    {
      "cell_type": "code",
      "metadata": {
        "id": "WT9lF92oWhqE",
        "colab_type": "code",
        "outputId": "8b507caf-4e40-425a-dbb9-92940b6cb846",
        "colab": {
          "base_uri": "https://localhost:8080/",
          "height": 190
        }
      },
      "source": [
        "#transformar em dataframe\n",
        "grupos = pd.DataFrame(modelo.cluster_centers_, columns=generos_df.columns)\n",
        "grupos"
      ],
      "execution_count": 18,
      "outputs": [
        {
          "output_type": "execute_result",
          "data": {
            "text/html": [
              "<div>\n",
              "<style scoped>\n",
              "    .dataframe tbody tr th:only-of-type {\n",
              "        vertical-align: middle;\n",
              "    }\n",
              "\n",
              "    .dataframe tbody tr th {\n",
              "        vertical-align: top;\n",
              "    }\n",
              "\n",
              "    .dataframe thead th {\n",
              "        text-align: right;\n",
              "    }\n",
              "</style>\n",
              "<table border=\"1\" class=\"dataframe\">\n",
              "  <thead>\n",
              "    <tr style=\"text-align: right;\">\n",
              "      <th></th>\n",
              "      <th>(no genres listed)</th>\n",
              "      <th>Action</th>\n",
              "      <th>Adventure</th>\n",
              "      <th>Animation</th>\n",
              "      <th>Children</th>\n",
              "      <th>Comedy</th>\n",
              "      <th>Crime</th>\n",
              "      <th>Documentary</th>\n",
              "      <th>Drama</th>\n",
              "      <th>Fantasy</th>\n",
              "      <th>Film-Noir</th>\n",
              "      <th>Horror</th>\n",
              "      <th>IMAX</th>\n",
              "      <th>Musical</th>\n",
              "      <th>Mystery</th>\n",
              "      <th>Romance</th>\n",
              "      <th>Sci-Fi</th>\n",
              "      <th>Thriller</th>\n",
              "      <th>War</th>\n",
              "      <th>Western</th>\n",
              "    </tr>\n",
              "  </thead>\n",
              "  <tbody>\n",
              "    <tr>\n",
              "      <th>0</th>\n",
              "      <td>-0.059180</td>\n",
              "      <td>0.650095</td>\n",
              "      <td>1.590758</td>\n",
              "      <td>1.457101</td>\n",
              "      <td>1.261909</td>\n",
              "      <td>-0.050994</td>\n",
              "      <td>-0.312646</td>\n",
              "      <td>-0.210485</td>\n",
              "      <td>-0.593104</td>\n",
              "      <td>1.059261</td>\n",
              "      <td>-0.094926</td>\n",
              "      <td>-0.234833</td>\n",
              "      <td>0.608579</td>\n",
              "      <td>0.227259</td>\n",
              "      <td>-0.151073</td>\n",
              "      <td>-0.287401</td>\n",
              "      <td>0.610948</td>\n",
              "      <td>-0.349756</td>\n",
              "      <td>-0.063383</td>\n",
              "      <td>-0.048021</td>\n",
              "    </tr>\n",
              "    <tr>\n",
              "      <th>1</th>\n",
              "      <td>-0.059180</td>\n",
              "      <td>0.390282</td>\n",
              "      <td>-0.195443</td>\n",
              "      <td>-0.235805</td>\n",
              "      <td>-0.261987</td>\n",
              "      <td>-0.565109</td>\n",
              "      <td>0.885011</td>\n",
              "      <td>-0.213381</td>\n",
              "      <td>0.083831</td>\n",
              "      <td>-0.165834</td>\n",
              "      <td>0.285995</td>\n",
              "      <td>0.419759</td>\n",
              "      <td>-0.067603</td>\n",
              "      <td>-0.176696</td>\n",
              "      <td>0.647561</td>\n",
              "      <td>-0.314688</td>\n",
              "      <td>0.081135</td>\n",
              "      <td>1.455619</td>\n",
              "      <td>-0.118497</td>\n",
              "      <td>-0.072904</td>\n",
              "    </tr>\n",
              "    <tr>\n",
              "      <th>2</th>\n",
              "      <td>0.036542</td>\n",
              "      <td>-0.300299</td>\n",
              "      <td>-0.287095</td>\n",
              "      <td>-0.240875</td>\n",
              "      <td>-0.186124</td>\n",
              "      <td>0.231568</td>\n",
              "      <td>-0.273050</td>\n",
              "      <td>0.131094</td>\n",
              "      <td>0.102776</td>\n",
              "      <td>-0.177282</td>\n",
              "      <td>-0.089631</td>\n",
              "      <td>-0.109749</td>\n",
              "      <td>-0.112624</td>\n",
              "      <td>0.016884</td>\n",
              "      <td>-0.217526</td>\n",
              "      <td>0.188080</td>\n",
              "      <td>-0.171050</td>\n",
              "      <td>-0.486644</td>\n",
              "      <td>0.060586</td>\n",
              "      <td>0.039335</td>\n",
              "    </tr>\n",
              "  </tbody>\n",
              "</table>\n",
              "</div>"
            ],
            "text/plain": [
              "   (no genres listed)    Action  Adventure  ...  Thriller       War   Western\n",
              "0           -0.059180  0.650095   1.590758  ... -0.349756 -0.063383 -0.048021\n",
              "1           -0.059180  0.390282  -0.195443  ...  1.455619 -0.118497 -0.072904\n",
              "2            0.036542 -0.300299  -0.287095  ... -0.486644  0.060586  0.039335\n",
              "\n",
              "[3 rows x 20 columns]"
            ]
          },
          "metadata": {
            "tags": []
          },
          "execution_count": 18
        }
      ]
    },
    {
      "cell_type": "code",
      "metadata": {
        "id": "8K_k3PuHXDhT",
        "colab_type": "code",
        "outputId": "84a5e2d0-15a3-422e-be17-5e4974f75d01",
        "colab": {
          "base_uri": "https://localhost:8080/",
          "height": 1000
        }
      },
      "source": [
        "#um grafico pra cada grupo\n",
        "grupos.plot.bar(subplots=True, figsize=(10,10), sharex=False)"
      ],
      "execution_count": 26,
      "outputs": [
        {
          "output_type": "stream",
          "text": [
            "/usr/local/lib/python3.6/dist-packages/pandas/plotting/_matplotlib/tools.py:307: MatplotlibDeprecationWarning: \n",
            "The rowNum attribute was deprecated in Matplotlib 3.2 and will be removed two minor releases later. Use ax.get_subplotspec().rowspan.start instead.\n",
            "  layout[ax.rowNum, ax.colNum] = ax.get_visible()\n",
            "/usr/local/lib/python3.6/dist-packages/pandas/plotting/_matplotlib/tools.py:307: MatplotlibDeprecationWarning: \n",
            "The colNum attribute was deprecated in Matplotlib 3.2 and will be removed two minor releases later. Use ax.get_subplotspec().colspan.start instead.\n",
            "  layout[ax.rowNum, ax.colNum] = ax.get_visible()\n",
            "/usr/local/lib/python3.6/dist-packages/pandas/plotting/_matplotlib/tools.py:313: MatplotlibDeprecationWarning: \n",
            "The rowNum attribute was deprecated in Matplotlib 3.2 and will be removed two minor releases later. Use ax.get_subplotspec().rowspan.start instead.\n",
            "  if not layout[ax.rowNum + 1, ax.colNum]:\n",
            "/usr/local/lib/python3.6/dist-packages/pandas/plotting/_matplotlib/tools.py:313: MatplotlibDeprecationWarning: \n",
            "The colNum attribute was deprecated in Matplotlib 3.2 and will be removed two minor releases later. Use ax.get_subplotspec().colspan.start instead.\n",
            "  if not layout[ax.rowNum + 1, ax.colNum]:\n"
          ],
          "name": "stderr"
        },
        {
          "output_type": "execute_result",
          "data": {
            "text/plain": [
              "array([<matplotlib.axes._subplots.AxesSubplot object at 0x7f2e0683e2e8>,\n",
              "       <matplotlib.axes._subplots.AxesSubplot object at 0x7f2e060a2390>,\n",
              "       <matplotlib.axes._subplots.AxesSubplot object at 0x7f2e063018d0>,\n",
              "       <matplotlib.axes._subplots.AxesSubplot object at 0x7f2e06094128>,\n",
              "       <matplotlib.axes._subplots.AxesSubplot object at 0x7f2e05f78390>,\n",
              "       <matplotlib.axes._subplots.AxesSubplot object at 0x7f2e05f2b5f8>,\n",
              "       <matplotlib.axes._subplots.AxesSubplot object at 0x7f2e05edf860>,\n",
              "       <matplotlib.axes._subplots.AxesSubplot object at 0x7f2e05e92a90>,\n",
              "       <matplotlib.axes._subplots.AxesSubplot object at 0x7f2e05e92b00>,\n",
              "       <matplotlib.axes._subplots.AxesSubplot object at 0x7f2e05e7cf98>,\n",
              "       <matplotlib.axes._subplots.AxesSubplot object at 0x7f2e05e3b240>,\n",
              "       <matplotlib.axes._subplots.AxesSubplot object at 0x7f2e05def4a8>,\n",
              "       <matplotlib.axes._subplots.AxesSubplot object at 0x7f2e05da3710>,\n",
              "       <matplotlib.axes._subplots.AxesSubplot object at 0x7f2e05d56978>,\n",
              "       <matplotlib.axes._subplots.AxesSubplot object at 0x7f2e05d0abe0>,\n",
              "       <matplotlib.axes._subplots.AxesSubplot object at 0x7f2e05d3fe48>,\n",
              "       <matplotlib.axes._subplots.AxesSubplot object at 0x7f2e05d000f0>,\n",
              "       <matplotlib.axes._subplots.AxesSubplot object at 0x7f2e05cb2358>,\n",
              "       <matplotlib.axes._subplots.AxesSubplot object at 0x7f2e05c685c0>,\n",
              "       <matplotlib.axes._subplots.AxesSubplot object at 0x7f2e05c1a828>],\n",
              "      dtype=object)"
            ]
          },
          "metadata": {
            "tags": []
          },
          "execution_count": 26
        },
        {
          "output_type": "display_data",
          "data": {
            "image/png": "[encoded data removed]",
            "text/plain": [
              "<Figure size 720x720 with 20 Axes>"
            ]
          },
          "metadata": {
            "tags": []
          }
        }
      ]
    },
    {
      "cell_type": "code",
      "metadata": {
        "id": "5JLu1joEXe3b",
        "colab_type": "code",
        "colab": {
          "base_uri": "https://localhost:8080/",
          "height": 639
        },
        "outputId": "ac5df2ef-750f-4a3d-d075-d8490934d7c2"
      },
      "source": [
        "#tranposicao de colunas\n",
        "grupos.transpose()"
      ],
      "execution_count": 27,
      "outputs": [
        {
          "output_type": "execute_result",
          "data": {
            "text/html": [
              "<div>\n",
              "<style scoped>\n",
              "    .dataframe tbody tr th:only-of-type {\n",
              "        vertical-align: middle;\n",
              "    }\n",
              "\n",
              "    .dataframe tbody tr th {\n",
              "        vertical-align: top;\n",
              "    }\n",
              "\n",
              "    .dataframe thead th {\n",
              "        text-align: right;\n",
              "    }\n",
              "</style>\n",
              "<table border=\"1\" class=\"dataframe\">\n",
              "  <thead>\n",
              "    <tr style=\"text-align: right;\">\n",
              "      <th></th>\n",
              "      <th>0</th>\n",
              "      <th>1</th>\n",
              "      <th>2</th>\n",
              "    </tr>\n",
              "  </thead>\n",
              "  <tbody>\n",
              "    <tr>\n",
              "      <th>(no genres listed)</th>\n",
              "      <td>-0.059180</td>\n",
              "      <td>-0.059180</td>\n",
              "      <td>0.036542</td>\n",
              "    </tr>\n",
              "    <tr>\n",
              "      <th>Action</th>\n",
              "      <td>0.650095</td>\n",
              "      <td>0.390282</td>\n",
              "      <td>-0.300299</td>\n",
              "    </tr>\n",
              "    <tr>\n",
              "      <th>Adventure</th>\n",
              "      <td>1.590758</td>\n",
              "      <td>-0.195443</td>\n",
              "      <td>-0.287095</td>\n",
              "    </tr>\n",
              "    <tr>\n",
              "      <th>Animation</th>\n",
              "      <td>1.457101</td>\n",
              "      <td>-0.235805</td>\n",
              "      <td>-0.240875</td>\n",
              "    </tr>\n",
              "    <tr>\n",
              "      <th>Children</th>\n",
              "      <td>1.261909</td>\n",
              "      <td>-0.261987</td>\n",
              "      <td>-0.186124</td>\n",
              "    </tr>\n",
              "    <tr>\n",
              "      <th>Comedy</th>\n",
              "      <td>-0.050994</td>\n",
              "      <td>-0.565109</td>\n",
              "      <td>0.231568</td>\n",
              "    </tr>\n",
              "    <tr>\n",
              "      <th>Crime</th>\n",
              "      <td>-0.312646</td>\n",
              "      <td>0.885011</td>\n",
              "      <td>-0.273050</td>\n",
              "    </tr>\n",
              "    <tr>\n",
              "      <th>Documentary</th>\n",
              "      <td>-0.210485</td>\n",
              "      <td>-0.213381</td>\n",
              "      <td>0.131094</td>\n",
              "    </tr>\n",
              "    <tr>\n",
              "      <th>Drama</th>\n",
              "      <td>-0.593104</td>\n",
              "      <td>0.083831</td>\n",
              "      <td>0.102776</td>\n",
              "    </tr>\n",
              "    <tr>\n",
              "      <th>Fantasy</th>\n",
              "      <td>1.059261</td>\n",
              "      <td>-0.165834</td>\n",
              "      <td>-0.177282</td>\n",
              "    </tr>\n",
              "    <tr>\n",
              "      <th>Film-Noir</th>\n",
              "      <td>-0.094926</td>\n",
              "      <td>0.285995</td>\n",
              "      <td>-0.089631</td>\n",
              "    </tr>\n",
              "    <tr>\n",
              "      <th>Horror</th>\n",
              "      <td>-0.234833</td>\n",
              "      <td>0.419759</td>\n",
              "      <td>-0.109749</td>\n",
              "    </tr>\n",
              "    <tr>\n",
              "      <th>IMAX</th>\n",
              "      <td>0.608579</td>\n",
              "      <td>-0.067603</td>\n",
              "      <td>-0.112624</td>\n",
              "    </tr>\n",
              "    <tr>\n",
              "      <th>Musical</th>\n",
              "      <td>0.227259</td>\n",
              "      <td>-0.176696</td>\n",
              "      <td>0.016884</td>\n",
              "    </tr>\n",
              "    <tr>\n",
              "      <th>Mystery</th>\n",
              "      <td>-0.151073</td>\n",
              "      <td>0.647561</td>\n",
              "      <td>-0.217526</td>\n",
              "    </tr>\n",
              "    <tr>\n",
              "      <th>Romance</th>\n",
              "      <td>-0.287401</td>\n",
              "      <td>-0.314688</td>\n",
              "      <td>0.188080</td>\n",
              "    </tr>\n",
              "    <tr>\n",
              "      <th>Sci-Fi</th>\n",
              "      <td>0.610948</td>\n",
              "      <td>0.081135</td>\n",
              "      <td>-0.171050</td>\n",
              "    </tr>\n",
              "    <tr>\n",
              "      <th>Thriller</th>\n",
              "      <td>-0.349756</td>\n",
              "      <td>1.455619</td>\n",
              "      <td>-0.486644</td>\n",
              "    </tr>\n",
              "    <tr>\n",
              "      <th>War</th>\n",
              "      <td>-0.063383</td>\n",
              "      <td>-0.118497</td>\n",
              "      <td>0.060586</td>\n",
              "    </tr>\n",
              "    <tr>\n",
              "      <th>Western</th>\n",
              "      <td>-0.048021</td>\n",
              "      <td>-0.072904</td>\n",
              "      <td>0.039335</td>\n",
              "    </tr>\n",
              "  </tbody>\n",
              "</table>\n",
              "</div>"
            ],
            "text/plain": [
              "                           0         1         2\n",
              "(no genres listed) -0.059180 -0.059180  0.036542\n",
              "Action              0.650095  0.390282 -0.300299\n",
              "Adventure           1.590758 -0.195443 -0.287095\n",
              "Animation           1.457101 -0.235805 -0.240875\n",
              "Children            1.261909 -0.261987 -0.186124\n",
              "Comedy             -0.050994 -0.565109  0.231568\n",
              "Crime              -0.312646  0.885011 -0.273050\n",
              "Documentary        -0.210485 -0.213381  0.131094\n",
              "Drama              -0.593104  0.083831  0.102776\n",
              "Fantasy             1.059261 -0.165834 -0.177282\n",
              "Film-Noir          -0.094926  0.285995 -0.089631\n",
              "Horror             -0.234833  0.419759 -0.109749\n",
              "IMAX                0.608579 -0.067603 -0.112624\n",
              "Musical             0.227259 -0.176696  0.016884\n",
              "Mystery            -0.151073  0.647561 -0.217526\n",
              "Romance            -0.287401 -0.314688  0.188080\n",
              "Sci-Fi              0.610948  0.081135 -0.171050\n",
              "Thriller           -0.349756  1.455619 -0.486644\n",
              "War                -0.063383 -0.118497  0.060586\n",
              "Western            -0.048021 -0.072904  0.039335"
            ]
          },
          "metadata": {
            "tags": []
          },
          "execution_count": 27
        }
      ]
    },
    {
      "cell_type": "code",
      "metadata": {
        "id": "1rM_ZBhd6a_P",
        "colab_type": "code",
        "colab": {
          "base_uri": "https://localhost:8080/",
          "height": 1000
        },
        "outputId": "52f6bc3c-9be2-4ddc-9f03-cee95bd8a229"
      },
      "source": [
        "grupos.transpose().plot.bar(subplots=True, figsize=(20,20), sharex=False)"
      ],
      "execution_count": 31,
      "outputs": [
        {
          "output_type": "stream",
          "text": [
            "/usr/local/lib/python3.6/dist-packages/pandas/plotting/_matplotlib/tools.py:307: MatplotlibDeprecationWarning: \n",
            "The rowNum attribute was deprecated in Matplotlib 3.2 and will be removed two minor releases later. Use ax.get_subplotspec().rowspan.start instead.\n",
            "  layout[ax.rowNum, ax.colNum] = ax.get_visible()\n",
            "/usr/local/lib/python3.6/dist-packages/pandas/plotting/_matplotlib/tools.py:307: MatplotlibDeprecationWarning: \n",
            "The colNum attribute was deprecated in Matplotlib 3.2 and will be removed two minor releases later. Use ax.get_subplotspec().colspan.start instead.\n",
            "  layout[ax.rowNum, ax.colNum] = ax.get_visible()\n",
            "/usr/local/lib/python3.6/dist-packages/pandas/plotting/_matplotlib/tools.py:313: MatplotlibDeprecationWarning: \n",
            "The rowNum attribute was deprecated in Matplotlib 3.2 and will be removed two minor releases later. Use ax.get_subplotspec().rowspan.start instead.\n",
            "  if not layout[ax.rowNum + 1, ax.colNum]:\n",
            "/usr/local/lib/python3.6/dist-packages/pandas/plotting/_matplotlib/tools.py:313: MatplotlibDeprecationWarning: \n",
            "The colNum attribute was deprecated in Matplotlib 3.2 and will be removed two minor releases later. Use ax.get_subplotspec().colspan.start instead.\n",
            "  if not layout[ax.rowNum + 1, ax.colNum]:\n"
          ],
          "name": "stderr"
        },
        {
          "output_type": "execute_result",
          "data": {
            "text/plain": [
              "array([<matplotlib.axes._subplots.AxesSubplot object at 0x7f2e059965f8>,\n",
              "       <matplotlib.axes._subplots.AxesSubplot object at 0x7f2e05e09940>,\n",
              "       <matplotlib.axes._subplots.AxesSubplot object at 0x7f2e051fa0b8>],\n",
              "      dtype=object)"
            ]
          },
          "metadata": {
            "tags": []
          },
          "execution_count": 31
        },
        {
          "output_type": "display_data",
          "data": {
            "image/png": "[encoded data removed]",
            "text/plain": [
              "<Figure size 1440x1440 with 3 Axes>"
            ]
          },
          "metadata": {
            "tags": []
          }
        }
      ]
    },
    {
      "cell_type": "code",
      "metadata": {
        "id": "WtOcai_v6fKq",
        "colab_type": "code",
        "colab": {
          "base_uri": "https://localhost:8080/",
          "height": 699
        },
        "outputId": "65863999-a616-4986-dab8-e0fc3c7bbd3e"
      },
      "source": [
        "#fitrar o grupo\n",
        "grupo = 0 \n",
        "filtro = modelo.labels_ == grupo\n",
        "dados_filmes_df[filtro].sample(10)"
      ],
      "execution_count": 34,
      "outputs": [
        {
          "output_type": "execute_result",
          "data": {
            "text/html": [
              "<div>\n",
              "<style scoped>\n",
              "    .dataframe tbody tr th:only-of-type {\n",
              "        vertical-align: middle;\n",
              "    }\n",
              "\n",
              "    .dataframe tbody tr th {\n",
              "        vertical-align: top;\n",
              "    }\n",
              "\n",
              "    .dataframe thead th {\n",
              "        text-align: right;\n",
              "    }\n",
              "</style>\n",
              "<table border=\"1\" class=\"dataframe\">\n",
              "  <thead>\n",
              "    <tr style=\"text-align: right;\">\n",
              "      <th></th>\n",
              "      <th>filme_id</th>\n",
              "      <th>titulo</th>\n",
              "      <th>generos</th>\n",
              "      <th>(no genres listed)</th>\n",
              "      <th>Action</th>\n",
              "      <th>Adventure</th>\n",
              "      <th>Animation</th>\n",
              "      <th>Children</th>\n",
              "      <th>Comedy</th>\n",
              "      <th>Crime</th>\n",
              "      <th>Documentary</th>\n",
              "      <th>Drama</th>\n",
              "      <th>Fantasy</th>\n",
              "      <th>Film-Noir</th>\n",
              "      <th>Horror</th>\n",
              "      <th>IMAX</th>\n",
              "      <th>Musical</th>\n",
              "      <th>Mystery</th>\n",
              "      <th>Romance</th>\n",
              "      <th>Sci-Fi</th>\n",
              "      <th>Thriller</th>\n",
              "      <th>War</th>\n",
              "      <th>Western</th>\n",
              "    </tr>\n",
              "  </thead>\n",
              "  <tbody>\n",
              "    <tr>\n",
              "      <th>8576</th>\n",
              "      <td>116941</td>\n",
              "      <td>Jetsons: The Movie (1990)</td>\n",
              "      <td>Animation|Children|Comedy|Musical|Sci-Fi</td>\n",
              "      <td>0</td>\n",
              "      <td>0</td>\n",
              "      <td>0</td>\n",
              "      <td>1</td>\n",
              "      <td>1</td>\n",
              "      <td>1</td>\n",
              "      <td>0</td>\n",
              "      <td>0</td>\n",
              "      <td>0</td>\n",
              "      <td>0</td>\n",
              "      <td>0</td>\n",
              "      <td>0</td>\n",
              "      <td>0</td>\n",
              "      <td>1</td>\n",
              "      <td>0</td>\n",
              "      <td>0</td>\n",
              "      <td>1</td>\n",
              "      <td>0</td>\n",
              "      <td>0</td>\n",
              "      <td>0</td>\n",
              "    </tr>\n",
              "    <tr>\n",
              "      <th>6313</th>\n",
              "      <td>48414</td>\n",
              "      <td>Open Season (2006)</td>\n",
              "      <td>Adventure|Animation|Children|Comedy|IMAX</td>\n",
              "      <td>0</td>\n",
              "      <td>0</td>\n",
              "      <td>1</td>\n",
              "      <td>1</td>\n",
              "      <td>1</td>\n",
              "      <td>1</td>\n",
              "      <td>0</td>\n",
              "      <td>0</td>\n",
              "      <td>0</td>\n",
              "      <td>0</td>\n",
              "      <td>0</td>\n",
              "      <td>0</td>\n",
              "      <td>1</td>\n",
              "      <td>0</td>\n",
              "      <td>0</td>\n",
              "      <td>0</td>\n",
              "      <td>0</td>\n",
              "      <td>0</td>\n",
              "      <td>0</td>\n",
              "      <td>0</td>\n",
              "    </tr>\n",
              "    <tr>\n",
              "      <th>2603</th>\n",
              "      <td>3479</td>\n",
              "      <td>Ladyhawke (1985)</td>\n",
              "      <td>Adventure|Fantasy|Romance</td>\n",
              "      <td>0</td>\n",
              "      <td>0</td>\n",
              "      <td>1</td>\n",
              "      <td>0</td>\n",
              "      <td>0</td>\n",
              "      <td>0</td>\n",
              "      <td>0</td>\n",
              "      <td>0</td>\n",
              "      <td>0</td>\n",
              "      <td>1</td>\n",
              "      <td>0</td>\n",
              "      <td>0</td>\n",
              "      <td>0</td>\n",
              "      <td>0</td>\n",
              "      <td>0</td>\n",
              "      <td>1</td>\n",
              "      <td>0</td>\n",
              "      <td>0</td>\n",
              "      <td>0</td>\n",
              "      <td>0</td>\n",
              "    </tr>\n",
              "    <tr>\n",
              "      <th>8930</th>\n",
              "      <td>136024</td>\n",
              "      <td>The Professional: Golgo 13 (1983)</td>\n",
              "      <td>Action|Animation|Crime</td>\n",
              "      <td>0</td>\n",
              "      <td>1</td>\n",
              "      <td>0</td>\n",
              "      <td>1</td>\n",
              "      <td>0</td>\n",
              "      <td>0</td>\n",
              "      <td>1</td>\n",
              "      <td>0</td>\n",
              "      <td>0</td>\n",
              "      <td>0</td>\n",
              "      <td>0</td>\n",
              "      <td>0</td>\n",
              "      <td>0</td>\n",
              "      <td>0</td>\n",
              "      <td>0</td>\n",
              "      <td>0</td>\n",
              "      <td>0</td>\n",
              "      <td>0</td>\n",
              "      <td>0</td>\n",
              "      <td>0</td>\n",
              "    </tr>\n",
              "    <tr>\n",
              "      <th>8659</th>\n",
              "      <td>121007</td>\n",
              "      <td>Space Buddies (2009)</td>\n",
              "      <td>Adventure|Children|Fantasy|Sci-Fi</td>\n",
              "      <td>0</td>\n",
              "      <td>0</td>\n",
              "      <td>1</td>\n",
              "      <td>0</td>\n",
              "      <td>1</td>\n",
              "      <td>0</td>\n",
              "      <td>0</td>\n",
              "      <td>0</td>\n",
              "      <td>0</td>\n",
              "      <td>1</td>\n",
              "      <td>0</td>\n",
              "      <td>0</td>\n",
              "      <td>0</td>\n",
              "      <td>0</td>\n",
              "      <td>0</td>\n",
              "      <td>0</td>\n",
              "      <td>1</td>\n",
              "      <td>0</td>\n",
              "      <td>0</td>\n",
              "      <td>0</td>\n",
              "    </tr>\n",
              "    <tr>\n",
              "      <th>6337</th>\n",
              "      <td>48982</td>\n",
              "      <td>Flushed Away (2006)</td>\n",
              "      <td>Animation|Comedy</td>\n",
              "      <td>0</td>\n",
              "      <td>0</td>\n",
              "      <td>0</td>\n",
              "      <td>1</td>\n",
              "      <td>0</td>\n",
              "      <td>1</td>\n",
              "      <td>0</td>\n",
              "      <td>0</td>\n",
              "      <td>0</td>\n",
              "      <td>0</td>\n",
              "      <td>0</td>\n",
              "      <td>0</td>\n",
              "      <td>0</td>\n",
              "      <td>0</td>\n",
              "      <td>0</td>\n",
              "      <td>0</td>\n",
              "      <td>0</td>\n",
              "      <td>0</td>\n",
              "      <td>0</td>\n",
              "      <td>0</td>\n",
              "    </tr>\n",
              "    <tr>\n",
              "      <th>7324</th>\n",
              "      <td>77561</td>\n",
              "      <td>Iron Man 2 (2010)</td>\n",
              "      <td>Action|Adventure|Sci-Fi|Thriller|IMAX</td>\n",
              "      <td>0</td>\n",
              "      <td>1</td>\n",
              "      <td>1</td>\n",
              "      <td>0</td>\n",
              "      <td>0</td>\n",
              "      <td>0</td>\n",
              "      <td>0</td>\n",
              "      <td>0</td>\n",
              "      <td>0</td>\n",
              "      <td>0</td>\n",
              "      <td>0</td>\n",
              "      <td>0</td>\n",
              "      <td>1</td>\n",
              "      <td>0</td>\n",
              "      <td>0</td>\n",
              "      <td>0</td>\n",
              "      <td>1</td>\n",
              "      <td>1</td>\n",
              "      <td>0</td>\n",
              "      <td>0</td>\n",
              "    </tr>\n",
              "    <tr>\n",
              "      <th>7550</th>\n",
              "      <td>85261</td>\n",
              "      <td>Mars Needs Moms (2011)</td>\n",
              "      <td>Action|Adventure|Animation|Children|Comedy|Sci...</td>\n",
              "      <td>0</td>\n",
              "      <td>1</td>\n",
              "      <td>1</td>\n",
              "      <td>1</td>\n",
              "      <td>1</td>\n",
              "      <td>1</td>\n",
              "      <td>0</td>\n",
              "      <td>0</td>\n",
              "      <td>0</td>\n",
              "      <td>0</td>\n",
              "      <td>0</td>\n",
              "      <td>0</td>\n",
              "      <td>1</td>\n",
              "      <td>0</td>\n",
              "      <td>0</td>\n",
              "      <td>0</td>\n",
              "      <td>1</td>\n",
              "      <td>0</td>\n",
              "      <td>0</td>\n",
              "      <td>0</td>\n",
              "    </tr>\n",
              "    <tr>\n",
              "      <th>7866</th>\n",
              "      <td>94018</td>\n",
              "      <td>Battleship (2012)</td>\n",
              "      <td>Action|Sci-Fi|Thriller|IMAX</td>\n",
              "      <td>0</td>\n",
              "      <td>1</td>\n",
              "      <td>0</td>\n",
              "      <td>0</td>\n",
              "      <td>0</td>\n",
              "      <td>0</td>\n",
              "      <td>0</td>\n",
              "      <td>0</td>\n",
              "      <td>0</td>\n",
              "      <td>0</td>\n",
              "      <td>0</td>\n",
              "      <td>0</td>\n",
              "      <td>1</td>\n",
              "      <td>0</td>\n",
              "      <td>0</td>\n",
              "      <td>0</td>\n",
              "      <td>1</td>\n",
              "      <td>1</td>\n",
              "      <td>0</td>\n",
              "      <td>0</td>\n",
              "    </tr>\n",
              "    <tr>\n",
              "      <th>7905</th>\n",
              "      <td>95165</td>\n",
              "      <td>Dragon Ball Z the Movie: The World's Strongest...</td>\n",
              "      <td>Action|Adventure|Animation|Sci-Fi|Thriller</td>\n",
              "      <td>0</td>\n",
              "      <td>1</td>\n",
              "      <td>1</td>\n",
              "      <td>1</td>\n",
              "      <td>0</td>\n",
              "      <td>0</td>\n",
              "      <td>0</td>\n",
              "      <td>0</td>\n",
              "      <td>0</td>\n",
              "      <td>0</td>\n",
              "      <td>0</td>\n",
              "      <td>0</td>\n",
              "      <td>0</td>\n",
              "      <td>0</td>\n",
              "      <td>0</td>\n",
              "      <td>0</td>\n",
              "      <td>1</td>\n",
              "      <td>1</td>\n",
              "      <td>0</td>\n",
              "      <td>0</td>\n",
              "    </tr>\n",
              "  </tbody>\n",
              "</table>\n",
              "</div>"
            ],
            "text/plain": [
              "      filme_id                                             titulo  ... War  Western\n",
              "8576    116941                          Jetsons: The Movie (1990)  ...   0        0\n",
              "6313     48414                                 Open Season (2006)  ...   0        0\n",
              "2603      3479                                   Ladyhawke (1985)  ...   0        0\n",
              "8930    136024                  The Professional: Golgo 13 (1983)  ...   0        0\n",
              "8659    121007                               Space Buddies (2009)  ...   0        0\n",
              "6337     48982                                Flushed Away (2006)  ...   0        0\n",
              "7324     77561                                  Iron Man 2 (2010)  ...   0        0\n",
              "7550     85261                             Mars Needs Moms (2011)  ...   0        0\n",
              "7866     94018                                  Battleship (2012)  ...   0        0\n",
              "7905     95165  Dragon Ball Z the Movie: The World's Strongest...  ...   0        0\n",
              "\n",
              "[10 rows x 23 columns]"
            ]
          },
          "metadata": {
            "tags": []
          },
          "execution_count": 34
        }
      ]
    },
    {
      "cell_type": "code",
      "metadata": {
        "id": "Eo603k1Z7Oc_",
        "colab_type": "code",
        "colab": {}
      },
      "source": [
        ""
      ],
      "execution_count": 0,
      "outputs": []
    }
  ]
}