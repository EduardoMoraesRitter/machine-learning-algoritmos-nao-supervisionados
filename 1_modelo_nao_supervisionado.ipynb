{
  "nbformat": 4,
  "nbformat_minor": 0,
  "metadata": {
    "colab": {
      "name": "Colab's New Code Editor",
      "provenance": [],
      "collapsed_sections": [],
      "include_colab_link": true
    },
    "kernelspec": {
      "display_name": "Python 3",
      "name": "python3"
    }
  },
  "cells": [
    {
      "cell_type": "markdown",
      "metadata": {
        "id": "view-in-github",
        "colab_type": "text"
      },
      "source": [
        "<a href=\"https://colab.research.google.com/github/EduardoMoraesRitter/machine-learning-algoritmos-nao-supervisionados/blob/master/1_modelo_nao_supervisionado.ipynb\" target=\"_parent\"><img src=\"https://colab.research.google.com/assets/colab-badge.svg\" alt=\"Open In Colab\"/></a>"
      ]
    },
    {
      "cell_type": "markdown",
      "metadata": {
        "id": "xhzHI8V6DdHO",
        "colab_type": "text"
      },
      "source": [
        "#fazer um sistema de recomendacao com filmes pelo generos\n",
        "\n",
        "1.   pegar os dados\n",
        "2.   conhecendo os dados\n",
        "1.   mudar os nomes, columns = ['\n",
        "2.   extrair os dados passando dados para coulunas binarias, get_dummies\n",
        "1.   junto os dois dataframe, pd.concat([\n",
        "2.   gerar um escala/nivel de genero sendo um filmes mais de comedia doque animaçao, StandardScaler\n",
        "1.   agrupar os filmes usando Cluesteriracao, KMeans\n",
        "2.   Visualizar o centroids os grupos gerados e usar o SEABORN\n",
        "\n",
        "\n",
        "\n",
        "o KMeans funciona, passa o numero de cluster, ele joga entao 3 pontos aleatorio chamado de centroids, calcula depois a distancia entre os 3 pontos, pega a metade do camilho e divide os dados dessa metade, recalcula a posição dos centroides os pontos para otimiza a a distancia dos dado realocando o centroides.\n",
        "\n",
        "assim como redistribuir um hospital por regiao e bairro\n",
        "\n",
        "- https://www.naftaliharris.com/blog/visualizing-k-means-clustering/\n",
        "- https://filosophy.org/writing/visual-algorithms-k-means-clustering/\n",
        "\n",
        "\n",
        "\n",
        "\n",
        "\n"
      ]
    },
    {
      "cell_type": "code",
      "metadata": {
        "id": "sa9eUHolElXw",
        "colab_type": "code",
        "outputId": "7a9880fa-3f0c-4395-b3c2-c69da22e06ab",
        "colab": {
          "base_uri": "https://localhost:8080/",
          "height": 195
        }
      },
      "source": [
        "import pandas as pd\n",
        "\n",
        "uri = 'https://raw.githubusercontent.com/EduardoMoraesRitter/machine-learning-algoritmos-nao-supervisionados/master/movies.csv'\n",
        "filmes_df = pd.read_csv(uri)\n",
        "\n",
        "filmes_df.head()"
      ],
      "execution_count": 1,
      "outputs": [
        {
          "output_type": "execute_result",
          "data": {
            "text/html": [
              "<div>\n",
              "<style scoped>\n",
              "    .dataframe tbody tr th:only-of-type {\n",
              "        vertical-align: middle;\n",
              "    }\n",
              "\n",
              "    .dataframe tbody tr th {\n",
              "        vertical-align: top;\n",
              "    }\n",
              "\n",
              "    .dataframe thead th {\n",
              "        text-align: right;\n",
              "    }\n",
              "</style>\n",
              "<table border=\"1\" class=\"dataframe\">\n",
              "  <thead>\n",
              "    <tr style=\"text-align: right;\">\n",
              "      <th></th>\n",
              "      <th>movieId</th>\n",
              "      <th>title</th>\n",
              "      <th>genres</th>\n",
              "    </tr>\n",
              "  </thead>\n",
              "  <tbody>\n",
              "    <tr>\n",
              "      <th>0</th>\n",
              "      <td>1</td>\n",
              "      <td>Toy Story (1995)</td>\n",
              "      <td>Adventure|Animation|Children|Comedy|Fantasy</td>\n",
              "    </tr>\n",
              "    <tr>\n",
              "      <th>1</th>\n",
              "      <td>2</td>\n",
              "      <td>Jumanji (1995)</td>\n",
              "      <td>Adventure|Children|Fantasy</td>\n",
              "    </tr>\n",
              "    <tr>\n",
              "      <th>2</th>\n",
              "      <td>3</td>\n",
              "      <td>Grumpier Old Men (1995)</td>\n",
              "      <td>Comedy|Romance</td>\n",
              "    </tr>\n",
              "    <tr>\n",
              "      <th>3</th>\n",
              "      <td>4</td>\n",
              "      <td>Waiting to Exhale (1995)</td>\n",
              "      <td>Comedy|Drama|Romance</td>\n",
              "    </tr>\n",
              "    <tr>\n",
              "      <th>4</th>\n",
              "      <td>5</td>\n",
              "      <td>Father of the Bride Part II (1995)</td>\n",
              "      <td>Comedy</td>\n",
              "    </tr>\n",
              "  </tbody>\n",
              "</table>\n",
              "</div>"
            ],
            "text/plain": [
              "   movieId  ...                                       genres\n",
              "0        1  ...  Adventure|Animation|Children|Comedy|Fantasy\n",
              "1        2  ...                   Adventure|Children|Fantasy\n",
              "2        3  ...                               Comedy|Romance\n",
              "3        4  ...                         Comedy|Drama|Romance\n",
              "4        5  ...                                       Comedy\n",
              "\n",
              "[5 rows x 3 columns]"
            ]
          },
          "metadata": {
            "tags": []
          },
          "execution_count": 1
        }
      ]
    },
    {
      "cell_type": "code",
      "metadata": {
        "id": "QdT4HalXEszl",
        "colab_type": "code",
        "outputId": "f52d2176-335c-4cbf-9d2e-62a1775d375d",
        "colab": {
          "base_uri": "https://localhost:8080/",
          "height": 195
        }
      },
      "source": [
        "filmes_df.columns = ['filme_id', 'titulo', 'generos']\n",
        "filmes_df.head()"
      ],
      "execution_count": 2,
      "outputs": [
        {
          "output_type": "execute_result",
          "data": {
            "text/html": [
              "<div>\n",
              "<style scoped>\n",
              "    .dataframe tbody tr th:only-of-type {\n",
              "        vertical-align: middle;\n",
              "    }\n",
              "\n",
              "    .dataframe tbody tr th {\n",
              "        vertical-align: top;\n",
              "    }\n",
              "\n",
              "    .dataframe thead th {\n",
              "        text-align: right;\n",
              "    }\n",
              "</style>\n",
              "<table border=\"1\" class=\"dataframe\">\n",
              "  <thead>\n",
              "    <tr style=\"text-align: right;\">\n",
              "      <th></th>\n",
              "      <th>filme_id</th>\n",
              "      <th>titulo</th>\n",
              "      <th>generos</th>\n",
              "    </tr>\n",
              "  </thead>\n",
              "  <tbody>\n",
              "    <tr>\n",
              "      <th>0</th>\n",
              "      <td>1</td>\n",
              "      <td>Toy Story (1995)</td>\n",
              "      <td>Adventure|Animation|Children|Comedy|Fantasy</td>\n",
              "    </tr>\n",
              "    <tr>\n",
              "      <th>1</th>\n",
              "      <td>2</td>\n",
              "      <td>Jumanji (1995)</td>\n",
              "      <td>Adventure|Children|Fantasy</td>\n",
              "    </tr>\n",
              "    <tr>\n",
              "      <th>2</th>\n",
              "      <td>3</td>\n",
              "      <td>Grumpier Old Men (1995)</td>\n",
              "      <td>Comedy|Romance</td>\n",
              "    </tr>\n",
              "    <tr>\n",
              "      <th>3</th>\n",
              "      <td>4</td>\n",
              "      <td>Waiting to Exhale (1995)</td>\n",
              "      <td>Comedy|Drama|Romance</td>\n",
              "    </tr>\n",
              "    <tr>\n",
              "      <th>4</th>\n",
              "      <td>5</td>\n",
              "      <td>Father of the Bride Part II (1995)</td>\n",
              "      <td>Comedy</td>\n",
              "    </tr>\n",
              "  </tbody>\n",
              "</table>\n",
              "</div>"
            ],
            "text/plain": [
              "   filme_id  ...                                      generos\n",
              "0         1  ...  Adventure|Animation|Children|Comedy|Fantasy\n",
              "1         2  ...                   Adventure|Children|Fantasy\n",
              "2         3  ...                               Comedy|Romance\n",
              "3         4  ...                         Comedy|Drama|Romance\n",
              "4         5  ...                                       Comedy\n",
              "\n",
              "[5 rows x 3 columns]"
            ]
          },
          "metadata": {
            "tags": []
          },
          "execution_count": 2
        }
      ]
    },
    {
      "cell_type": "code",
      "metadata": {
        "id": "osPIgJ5eI-Co",
        "colab_type": "code",
        "outputId": "67e11f07-dc6f-48c0-82b2-b8e3e41ba9c9",
        "colab": {
          "base_uri": "https://localhost:8080/",
          "height": 34
        }
      },
      "source": [
        "type(filmes_df)"
      ],
      "execution_count": 3,
      "outputs": [
        {
          "output_type": "execute_result",
          "data": {
            "text/plain": [
              "pandas.core.frame.DataFrame"
            ]
          },
          "metadata": {
            "tags": []
          },
          "execution_count": 3
        }
      ]
    },
    {
      "cell_type": "code",
      "metadata": {
        "id": "jaAIzVIjH7gH",
        "colab_type": "code",
        "outputId": "00a395b5-3ef6-4c0b-f765-e4f3138301e9",
        "colab": {
          "base_uri": "https://localhost:8080/",
          "height": 34
        }
      },
      "source": [
        "type(filmes_df.generos)"
      ],
      "execution_count": 4,
      "outputs": [
        {
          "output_type": "execute_result",
          "data": {
            "text/plain": [
              "pandas.core.series.Series"
            ]
          },
          "metadata": {
            "tags": []
          },
          "execution_count": 4
        }
      ]
    },
    {
      "cell_type": "code",
      "metadata": {
        "id": "eIPgDOlvJMtp",
        "colab_type": "code",
        "outputId": "a0c0fd69-1b02-42c3-9168-c1d5eb5a435a",
        "colab": {
          "base_uri": "https://localhost:8080/",
          "height": 34
        }
      },
      "source": [
        "filmes_df.generos.str"
      ],
      "execution_count": 5,
      "outputs": [
        {
          "output_type": "execute_result",
          "data": {
            "text/plain": [
              "<pandas.core.strings.StringMethods at 0x7f9fb9286240>"
            ]
          },
          "metadata": {
            "tags": []
          },
          "execution_count": 5
        }
      ]
    },
    {
      "cell_type": "code",
      "metadata": {
        "id": "sEPod00fJEgY",
        "colab_type": "code",
        "outputId": "1cb9d828-05e6-4e19-a965-bdb6d85d8cad",
        "colab": {
          "base_uri": "https://localhost:8080/",
          "height": 218
        }
      },
      "source": [
        "filmes_df.generos"
      ],
      "execution_count": 6,
      "outputs": [
        {
          "output_type": "execute_result",
          "data": {
            "text/plain": [
              "0       Adventure|Animation|Children|Comedy|Fantasy\n",
              "1                        Adventure|Children|Fantasy\n",
              "2                                    Comedy|Romance\n",
              "3                              Comedy|Drama|Romance\n",
              "4                                            Comedy\n",
              "                           ...                     \n",
              "9737                Action|Animation|Comedy|Fantasy\n",
              "9738                       Animation|Comedy|Fantasy\n",
              "9739                                          Drama\n",
              "9740                               Action|Animation\n",
              "9741                                         Comedy\n",
              "Name: generos, Length: 9742, dtype: object"
            ]
          },
          "metadata": {
            "tags": []
          },
          "execution_count": 6
        }
      ]
    },
    {
      "cell_type": "code",
      "metadata": {
        "id": "UZ6iQM6WJH8o",
        "colab_type": "code",
        "outputId": "4cd30c8e-9ab3-4b45-ea86-5d17097bf3fe",
        "colab": {
          "base_uri": "https://localhost:8080/",
          "height": 455
        }
      },
      "source": [
        "filmes_df.generos.str.get_dummies()"
      ],
      "execution_count": 7,
      "outputs": [
        {
          "output_type": "execute_result",
          "data": {
            "text/html": [
              "<div>\n",
              "<style scoped>\n",
              "    .dataframe tbody tr th:only-of-type {\n",
              "        vertical-align: middle;\n",
              "    }\n",
              "\n",
              "    .dataframe tbody tr th {\n",
              "        vertical-align: top;\n",
              "    }\n",
              "\n",
              "    .dataframe thead th {\n",
              "        text-align: right;\n",
              "    }\n",
              "</style>\n",
              "<table border=\"1\" class=\"dataframe\">\n",
              "  <thead>\n",
              "    <tr style=\"text-align: right;\">\n",
              "      <th></th>\n",
              "      <th>(no genres listed)</th>\n",
              "      <th>Action</th>\n",
              "      <th>Adventure</th>\n",
              "      <th>Animation</th>\n",
              "      <th>Children</th>\n",
              "      <th>Comedy</th>\n",
              "      <th>Crime</th>\n",
              "      <th>Documentary</th>\n",
              "      <th>Drama</th>\n",
              "      <th>Fantasy</th>\n",
              "      <th>Film-Noir</th>\n",
              "      <th>Horror</th>\n",
              "      <th>IMAX</th>\n",
              "      <th>Musical</th>\n",
              "      <th>Mystery</th>\n",
              "      <th>Romance</th>\n",
              "      <th>Sci-Fi</th>\n",
              "      <th>Thriller</th>\n",
              "      <th>War</th>\n",
              "      <th>Western</th>\n",
              "    </tr>\n",
              "  </thead>\n",
              "  <tbody>\n",
              "    <tr>\n",
              "      <th>0</th>\n",
              "      <td>0</td>\n",
              "      <td>0</td>\n",
              "      <td>1</td>\n",
              "      <td>1</td>\n",
              "      <td>1</td>\n",
              "      <td>1</td>\n",
              "      <td>0</td>\n",
              "      <td>0</td>\n",
              "      <td>0</td>\n",
              "      <td>1</td>\n",
              "      <td>0</td>\n",
              "      <td>0</td>\n",
              "      <td>0</td>\n",
              "      <td>0</td>\n",
              "      <td>0</td>\n",
              "      <td>0</td>\n",
              "      <td>0</td>\n",
              "      <td>0</td>\n",
              "      <td>0</td>\n",
              "      <td>0</td>\n",
              "    </tr>\n",
              "    <tr>\n",
              "      <th>1</th>\n",
              "      <td>0</td>\n",
              "      <td>0</td>\n",
              "      <td>1</td>\n",
              "      <td>0</td>\n",
              "      <td>1</td>\n",
              "      <td>0</td>\n",
              "      <td>0</td>\n",
              "      <td>0</td>\n",
              "      <td>0</td>\n",
              "      <td>1</td>\n",
              "      <td>0</td>\n",
              "      <td>0</td>\n",
              "      <td>0</td>\n",
              "      <td>0</td>\n",
              "      <td>0</td>\n",
              "      <td>0</td>\n",
              "      <td>0</td>\n",
              "      <td>0</td>\n",
              "      <td>0</td>\n",
              "      <td>0</td>\n",
              "    </tr>\n",
              "    <tr>\n",
              "      <th>2</th>\n",
              "      <td>0</td>\n",
              "      <td>0</td>\n",
              "      <td>0</td>\n",
              "      <td>0</td>\n",
              "      <td>0</td>\n",
              "      <td>1</td>\n",
              "      <td>0</td>\n",
              "      <td>0</td>\n",
              "      <td>0</td>\n",
              "      <td>0</td>\n",
              "      <td>0</td>\n",
              "      <td>0</td>\n",
              "      <td>0</td>\n",
              "      <td>0</td>\n",
              "      <td>0</td>\n",
              "      <td>1</td>\n",
              "      <td>0</td>\n",
              "      <td>0</td>\n",
              "      <td>0</td>\n",
              "      <td>0</td>\n",
              "    </tr>\n",
              "    <tr>\n",
              "      <th>3</th>\n",
              "      <td>0</td>\n",
              "      <td>0</td>\n",
              "      <td>0</td>\n",
              "      <td>0</td>\n",
              "      <td>0</td>\n",
              "      <td>1</td>\n",
              "      <td>0</td>\n",
              "      <td>0</td>\n",
              "      <td>1</td>\n",
              "      <td>0</td>\n",
              "      <td>0</td>\n",
              "      <td>0</td>\n",
              "      <td>0</td>\n",
              "      <td>0</td>\n",
              "      <td>0</td>\n",
              "      <td>1</td>\n",
              "      <td>0</td>\n",
              "      <td>0</td>\n",
              "      <td>0</td>\n",
              "      <td>0</td>\n",
              "    </tr>\n",
              "    <tr>\n",
              "      <th>4</th>\n",
              "      <td>0</td>\n",
              "      <td>0</td>\n",
              "      <td>0</td>\n",
              "      <td>0</td>\n",
              "      <td>0</td>\n",
              "      <td>1</td>\n",
              "      <td>0</td>\n",
              "      <td>0</td>\n",
              "      <td>0</td>\n",
              "      <td>0</td>\n",
              "      <td>0</td>\n",
              "      <td>0</td>\n",
              "      <td>0</td>\n",
              "      <td>0</td>\n",
              "      <td>0</td>\n",
              "      <td>0</td>\n",
              "      <td>0</td>\n",
              "      <td>0</td>\n",
              "      <td>0</td>\n",
              "      <td>0</td>\n",
              "    </tr>\n",
              "    <tr>\n",
              "      <th>...</th>\n",
              "      <td>...</td>\n",
              "      <td>...</td>\n",
              "      <td>...</td>\n",
              "      <td>...</td>\n",
              "      <td>...</td>\n",
              "      <td>...</td>\n",
              "      <td>...</td>\n",
              "      <td>...</td>\n",
              "      <td>...</td>\n",
              "      <td>...</td>\n",
              "      <td>...</td>\n",
              "      <td>...</td>\n",
              "      <td>...</td>\n",
              "      <td>...</td>\n",
              "      <td>...</td>\n",
              "      <td>...</td>\n",
              "      <td>...</td>\n",
              "      <td>...</td>\n",
              "      <td>...</td>\n",
              "      <td>...</td>\n",
              "    </tr>\n",
              "    <tr>\n",
              "      <th>9737</th>\n",
              "      <td>0</td>\n",
              "      <td>1</td>\n",
              "      <td>0</td>\n",
              "      <td>1</td>\n",
              "      <td>0</td>\n",
              "      <td>1</td>\n",
              "      <td>0</td>\n",
              "      <td>0</td>\n",
              "      <td>0</td>\n",
              "      <td>1</td>\n",
              "      <td>0</td>\n",
              "      <td>0</td>\n",
              "      <td>0</td>\n",
              "      <td>0</td>\n",
              "      <td>0</td>\n",
              "      <td>0</td>\n",
              "      <td>0</td>\n",
              "      <td>0</td>\n",
              "      <td>0</td>\n",
              "      <td>0</td>\n",
              "    </tr>\n",
              "    <tr>\n",
              "      <th>9738</th>\n",
              "      <td>0</td>\n",
              "      <td>0</td>\n",
              "      <td>0</td>\n",
              "      <td>1</td>\n",
              "      <td>0</td>\n",
              "      <td>1</td>\n",
              "      <td>0</td>\n",
              "      <td>0</td>\n",
              "      <td>0</td>\n",
              "      <td>1</td>\n",
              "      <td>0</td>\n",
              "      <td>0</td>\n",
              "      <td>0</td>\n",
              "      <td>0</td>\n",
              "      <td>0</td>\n",
              "      <td>0</td>\n",
              "      <td>0</td>\n",
              "      <td>0</td>\n",
              "      <td>0</td>\n",
              "      <td>0</td>\n",
              "    </tr>\n",
              "    <tr>\n",
              "      <th>9739</th>\n",
              "      <td>0</td>\n",
              "      <td>0</td>\n",
              "      <td>0</td>\n",
              "      <td>0</td>\n",
              "      <td>0</td>\n",
              "      <td>0</td>\n",
              "      <td>0</td>\n",
              "      <td>0</td>\n",
              "      <td>1</td>\n",
              "      <td>0</td>\n",
              "      <td>0</td>\n",
              "      <td>0</td>\n",
              "      <td>0</td>\n",
              "      <td>0</td>\n",
              "      <td>0</td>\n",
              "      <td>0</td>\n",
              "      <td>0</td>\n",
              "      <td>0</td>\n",
              "      <td>0</td>\n",
              "      <td>0</td>\n",
              "    </tr>\n",
              "    <tr>\n",
              "      <th>9740</th>\n",
              "      <td>0</td>\n",
              "      <td>1</td>\n",
              "      <td>0</td>\n",
              "      <td>1</td>\n",
              "      <td>0</td>\n",
              "      <td>0</td>\n",
              "      <td>0</td>\n",
              "      <td>0</td>\n",
              "      <td>0</td>\n",
              "      <td>0</td>\n",
              "      <td>0</td>\n",
              "      <td>0</td>\n",
              "      <td>0</td>\n",
              "      <td>0</td>\n",
              "      <td>0</td>\n",
              "      <td>0</td>\n",
              "      <td>0</td>\n",
              "      <td>0</td>\n",
              "      <td>0</td>\n",
              "      <td>0</td>\n",
              "    </tr>\n",
              "    <tr>\n",
              "      <th>9741</th>\n",
              "      <td>0</td>\n",
              "      <td>0</td>\n",
              "      <td>0</td>\n",
              "      <td>0</td>\n",
              "      <td>0</td>\n",
              "      <td>1</td>\n",
              "      <td>0</td>\n",
              "      <td>0</td>\n",
              "      <td>0</td>\n",
              "      <td>0</td>\n",
              "      <td>0</td>\n",
              "      <td>0</td>\n",
              "      <td>0</td>\n",
              "      <td>0</td>\n",
              "      <td>0</td>\n",
              "      <td>0</td>\n",
              "      <td>0</td>\n",
              "      <td>0</td>\n",
              "      <td>0</td>\n",
              "      <td>0</td>\n",
              "    </tr>\n",
              "  </tbody>\n",
              "</table>\n",
              "<p>9742 rows × 20 columns</p>\n",
              "</div>"
            ],
            "text/plain": [
              "      (no genres listed)  Action  Adventure  ...  Thriller  War  Western\n",
              "0                      0       0          1  ...         0    0        0\n",
              "1                      0       0          1  ...         0    0        0\n",
              "2                      0       0          0  ...         0    0        0\n",
              "3                      0       0          0  ...         0    0        0\n",
              "4                      0       0          0  ...         0    0        0\n",
              "...                  ...     ...        ...  ...       ...  ...      ...\n",
              "9737                   0       1          0  ...         0    0        0\n",
              "9738                   0       0          0  ...         0    0        0\n",
              "9739                   0       0          0  ...         0    0        0\n",
              "9740                   0       1          0  ...         0    0        0\n",
              "9741                   0       0          0  ...         0    0        0\n",
              "\n",
              "[9742 rows x 20 columns]"
            ]
          },
          "metadata": {
            "tags": []
          },
          "execution_count": 7
        }
      ]
    },
    {
      "cell_type": "code",
      "metadata": {
        "id": "R7vGY5yWJgjq",
        "colab_type": "code",
        "outputId": "e9d9828d-1917-46f7-8a3a-e5ba2f31cc5e",
        "colab": {
          "base_uri": "https://localhost:8080/",
          "height": 400
        }
      },
      "source": [
        "generos_df = filmes_df.generos.str.get_dummies()\n",
        "#axis eixo de concatenacao\n",
        "dados_filmes_df = pd.concat([filmes_df, generos_df], axis=1)\n",
        "dados_filmes_df.head()"
      ],
      "execution_count": 8,
      "outputs": [
        {
          "output_type": "execute_result",
          "data": {
            "text/html": [
              "<div>\n",
              "<style scoped>\n",
              "    .dataframe tbody tr th:only-of-type {\n",
              "        vertical-align: middle;\n",
              "    }\n",
              "\n",
              "    .dataframe tbody tr th {\n",
              "        vertical-align: top;\n",
              "    }\n",
              "\n",
              "    .dataframe thead th {\n",
              "        text-align: right;\n",
              "    }\n",
              "</style>\n",
              "<table border=\"1\" class=\"dataframe\">\n",
              "  <thead>\n",
              "    <tr style=\"text-align: right;\">\n",
              "      <th></th>\n",
              "      <th>filme_id</th>\n",
              "      <th>titulo</th>\n",
              "      <th>generos</th>\n",
              "      <th>(no genres listed)</th>\n",
              "      <th>Action</th>\n",
              "      <th>Adventure</th>\n",
              "      <th>Animation</th>\n",
              "      <th>Children</th>\n",
              "      <th>Comedy</th>\n",
              "      <th>Crime</th>\n",
              "      <th>Documentary</th>\n",
              "      <th>Drama</th>\n",
              "      <th>Fantasy</th>\n",
              "      <th>Film-Noir</th>\n",
              "      <th>Horror</th>\n",
              "      <th>IMAX</th>\n",
              "      <th>Musical</th>\n",
              "      <th>Mystery</th>\n",
              "      <th>Romance</th>\n",
              "      <th>Sci-Fi</th>\n",
              "      <th>Thriller</th>\n",
              "      <th>War</th>\n",
              "      <th>Western</th>\n",
              "    </tr>\n",
              "  </thead>\n",
              "  <tbody>\n",
              "    <tr>\n",
              "      <th>0</th>\n",
              "      <td>1</td>\n",
              "      <td>Toy Story (1995)</td>\n",
              "      <td>Adventure|Animation|Children|Comedy|Fantasy</td>\n",
              "      <td>0</td>\n",
              "      <td>0</td>\n",
              "      <td>1</td>\n",
              "      <td>1</td>\n",
              "      <td>1</td>\n",
              "      <td>1</td>\n",
              "      <td>0</td>\n",
              "      <td>0</td>\n",
              "      <td>0</td>\n",
              "      <td>1</td>\n",
              "      <td>0</td>\n",
              "      <td>0</td>\n",
              "      <td>0</td>\n",
              "      <td>0</td>\n",
              "      <td>0</td>\n",
              "      <td>0</td>\n",
              "      <td>0</td>\n",
              "      <td>0</td>\n",
              "      <td>0</td>\n",
              "      <td>0</td>\n",
              "    </tr>\n",
              "    <tr>\n",
              "      <th>1</th>\n",
              "      <td>2</td>\n",
              "      <td>Jumanji (1995)</td>\n",
              "      <td>Adventure|Children|Fantasy</td>\n",
              "      <td>0</td>\n",
              "      <td>0</td>\n",
              "      <td>1</td>\n",
              "      <td>0</td>\n",
              "      <td>1</td>\n",
              "      <td>0</td>\n",
              "      <td>0</td>\n",
              "      <td>0</td>\n",
              "      <td>0</td>\n",
              "      <td>1</td>\n",
              "      <td>0</td>\n",
              "      <td>0</td>\n",
              "      <td>0</td>\n",
              "      <td>0</td>\n",
              "      <td>0</td>\n",
              "      <td>0</td>\n",
              "      <td>0</td>\n",
              "      <td>0</td>\n",
              "      <td>0</td>\n",
              "      <td>0</td>\n",
              "    </tr>\n",
              "    <tr>\n",
              "      <th>2</th>\n",
              "      <td>3</td>\n",
              "      <td>Grumpier Old Men (1995)</td>\n",
              "      <td>Comedy|Romance</td>\n",
              "      <td>0</td>\n",
              "      <td>0</td>\n",
              "      <td>0</td>\n",
              "      <td>0</td>\n",
              "      <td>0</td>\n",
              "      <td>1</td>\n",
              "      <td>0</td>\n",
              "      <td>0</td>\n",
              "      <td>0</td>\n",
              "      <td>0</td>\n",
              "      <td>0</td>\n",
              "      <td>0</td>\n",
              "      <td>0</td>\n",
              "      <td>0</td>\n",
              "      <td>0</td>\n",
              "      <td>1</td>\n",
              "      <td>0</td>\n",
              "      <td>0</td>\n",
              "      <td>0</td>\n",
              "      <td>0</td>\n",
              "    </tr>\n",
              "    <tr>\n",
              "      <th>3</th>\n",
              "      <td>4</td>\n",
              "      <td>Waiting to Exhale (1995)</td>\n",
              "      <td>Comedy|Drama|Romance</td>\n",
              "      <td>0</td>\n",
              "      <td>0</td>\n",
              "      <td>0</td>\n",
              "      <td>0</td>\n",
              "      <td>0</td>\n",
              "      <td>1</td>\n",
              "      <td>0</td>\n",
              "      <td>0</td>\n",
              "      <td>1</td>\n",
              "      <td>0</td>\n",
              "      <td>0</td>\n",
              "      <td>0</td>\n",
              "      <td>0</td>\n",
              "      <td>0</td>\n",
              "      <td>0</td>\n",
              "      <td>1</td>\n",
              "      <td>0</td>\n",
              "      <td>0</td>\n",
              "      <td>0</td>\n",
              "      <td>0</td>\n",
              "    </tr>\n",
              "    <tr>\n",
              "      <th>4</th>\n",
              "      <td>5</td>\n",
              "      <td>Father of the Bride Part II (1995)</td>\n",
              "      <td>Comedy</td>\n",
              "      <td>0</td>\n",
              "      <td>0</td>\n",
              "      <td>0</td>\n",
              "      <td>0</td>\n",
              "      <td>0</td>\n",
              "      <td>1</td>\n",
              "      <td>0</td>\n",
              "      <td>0</td>\n",
              "      <td>0</td>\n",
              "      <td>0</td>\n",
              "      <td>0</td>\n",
              "      <td>0</td>\n",
              "      <td>0</td>\n",
              "      <td>0</td>\n",
              "      <td>0</td>\n",
              "      <td>0</td>\n",
              "      <td>0</td>\n",
              "      <td>0</td>\n",
              "      <td>0</td>\n",
              "      <td>0</td>\n",
              "    </tr>\n",
              "  </tbody>\n",
              "</table>\n",
              "</div>"
            ],
            "text/plain": [
              "   filme_id                              titulo  ... War  Western\n",
              "0         1                    Toy Story (1995)  ...   0        0\n",
              "1         2                      Jumanji (1995)  ...   0        0\n",
              "2         3             Grumpier Old Men (1995)  ...   0        0\n",
              "3         4            Waiting to Exhale (1995)  ...   0        0\n",
              "4         5  Father of the Bride Part II (1995)  ...   0        0\n",
              "\n",
              "[5 rows x 23 columns]"
            ]
          },
          "metadata": {
            "tags": []
          },
          "execution_count": 8
        }
      ]
    },
    {
      "cell_type": "code",
      "metadata": {
        "id": "Thjtu-3CKCh-",
        "colab_type": "code",
        "outputId": "c5397823-f53a-403f-9799-833f2521341b",
        "colab": {
          "base_uri": "https://localhost:8080/",
          "height": 235
        }
      },
      "source": [
        "#para escalar os dados usar a biblioteca de escalamento\n",
        "from sklearn.preprocessing import StandardScaler\n",
        "\n",
        "#treina o escalamneto\n",
        "scaler = StandardScaler()\n",
        "generos_escalados_ndarray = scaler.fit_transform(generos_df)\n",
        "\n",
        "generos_escalados_ndarray"
      ],
      "execution_count": 9,
      "outputs": [
        {
          "output_type": "execute_result",
          "data": {
            "text/plain": [
              "array([[-0.05917995, -0.48060698,  2.59101927, ..., -0.49125897,\n",
              "        -0.20201972, -0.13206534],\n",
              "       [-0.05917995, -0.48060698,  2.59101927, ..., -0.49125897,\n",
              "        -0.20201972, -0.13206534],\n",
              "       [-0.05917995, -0.48060698, -0.3859485 , ..., -0.49125897,\n",
              "        -0.20201972, -0.13206534],\n",
              "       ...,\n",
              "       [-0.05917995, -0.48060698, -0.3859485 , ..., -0.49125897,\n",
              "        -0.20201972, -0.13206534],\n",
              "       [-0.05917995,  2.0807022 , -0.3859485 , ..., -0.49125897,\n",
              "        -0.20201972, -0.13206534],\n",
              "       [-0.05917995, -0.48060698, -0.3859485 , ..., -0.49125897,\n",
              "        -0.20201972, -0.13206534]])"
            ]
          },
          "metadata": {
            "tags": []
          },
          "execution_count": 9
        }
      ]
    },
    {
      "cell_type": "code",
      "metadata": {
        "id": "9amU7VyOOfRT",
        "colab_type": "code",
        "outputId": "2cc3a400-c1ae-420a-f2f0-96a204acebcc",
        "colab": {
          "base_uri": "https://localhost:8080/",
          "height": 34
        }
      },
      "source": [
        "generos_escalados_ndarray.shape"
      ],
      "execution_count": 10,
      "outputs": [
        {
          "output_type": "execute_result",
          "data": {
            "text/plain": [
              "(9742, 20)"
            ]
          },
          "metadata": {
            "tags": []
          },
          "execution_count": 10
        }
      ]
    },
    {
      "cell_type": "code",
      "metadata": {
        "id": "vKouO_kks4kG",
        "colab_type": "code",
        "outputId": "bb515cdf-d29b-4a2e-8617-9539ba6b5514",
        "colab": {
          "base_uri": "https://localhost:8080/",
          "height": 487
        }
      },
      "source": [
        "#escalado Toy Story\n",
        "print(generos_escalados_ndarray[53])\n",
        "print(dados_filmes_df.loc[53])"
      ],
      "execution_count": 11,
      "outputs": [
        {
          "output_type": "stream",
          "text": [
            "[-0.05917995 -0.48060698  2.59101927 -0.25867916  3.69752441 -0.7921263\n",
            " -0.37463158 -0.21748944 -0.90024672  3.3920166  -0.09492563 -0.3340552\n",
            " -0.12839708 -0.18841895 -0.24998637 -0.44263346 -0.33443476 -0.49125897\n",
            " -0.20201972 -0.13206534]\n",
            "filme_id                                              60\n",
            "titulo                Indian in the Cupboard, The (1995)\n",
            "generos                       Adventure|Children|Fantasy\n",
            "(no genres listed)                                     0\n",
            "Action                                                 0\n",
            "Adventure                                              1\n",
            "Animation                                              0\n",
            "Children                                               1\n",
            "Comedy                                                 0\n",
            "Crime                                                  0\n",
            "Documentary                                            0\n",
            "Drama                                                  0\n",
            "Fantasy                                                1\n",
            "Film-Noir                                              0\n",
            "Horror                                                 0\n",
            "IMAX                                                   0\n",
            "Musical                                                0\n",
            "Mystery                                                0\n",
            "Romance                                                0\n",
            "Sci-Fi                                                 0\n",
            "Thriller                                               0\n",
            "War                                                    0\n",
            "Western                                                0\n",
            "Name: 53, dtype: object\n"
          ],
          "name": "stdout"
        }
      ]
    },
    {
      "cell_type": "code",
      "metadata": {
        "id": "nZqTG5yr6QZX",
        "colab_type": "code",
        "outputId": "f0526566-001d-4471-c999-374f27ef2d47",
        "colab": {
          "base_uri": "https://localhost:8080/",
          "height": 67
        }
      },
      "source": [
        "print(dados_filmes_df['Adventure'].sum())\n",
        "print(dados_filmes_df['Children'].sum())\n",
        "print(dados_filmes_df['Fantasy'].sum())"
      ],
      "execution_count": 12,
      "outputs": [
        {
          "output_type": "stream",
          "text": [
            "1263\n",
            "664\n",
            "779\n"
          ],
          "name": "stdout"
        }
      ]
    },
    {
      "cell_type": "code",
      "metadata": {
        "id": "RrxB3da2GZet",
        "colab_type": "code",
        "outputId": "7ed2a7d2-9432-41d5-900c-40aa4dd0e1a0",
        "colab": {
          "base_uri": "https://localhost:8080/",
          "height": 470
        }
      },
      "source": [
        "#filter\n",
        "print(dados_filmes_df[dados_filmes_df.generos == 'Adventure|Children|Fantasy'])"
      ],
      "execution_count": 13,
      "outputs": [
        {
          "output_type": "stream",
          "text": [
            "      filme_id                                             titulo  ... War  Western\n",
            "1            2                                     Jumanji (1995)  ...   0        0\n",
            "53          60                 Indian in the Cupboard, The (1995)  ...   0        0\n",
            "109        126                  NeverEnding Story III, The (1994)  ...   0        0\n",
            "767       1009                    Escape to Witch Mountain (1975)  ...   0        0\n",
            "1514      2043          Darby O'Gill and the Little People (1959)  ...   0        0\n",
            "1556      2093                                Return to Oz (1985)  ...   0        0\n",
            "1617      2161                      NeverEnding Story, The (1984)  ...   0        0\n",
            "1618      2162  NeverEnding Story II: The Next Chapter, The (1...  ...   0        0\n",
            "1799      2399                      Santa Claus: The Movie (1985)  ...   0        0\n",
            "3574      4896  Harry Potter and the Sorcerer's Stone (a.k.a. ...  ...   0        0\n",
            "6075     41566  Chronicles of Narnia: The Lion, the Witch and ...  ...   0        0\n",
            "6389     50601                        Bridge to Terabithia (2007)  ...   0        0\n",
            "6629     56171                         Golden Compass, The (2007)  ...   0        0\n",
            "6655     56915        Water Horse: Legend of the Deep, The (2007)  ...   0        0\n",
            "6751     59501   Chronicles of Narnia: Prince Caspian, The (2008)  ...   0        0\n",
            "7426     80748                         Alice in Wonderland (1933)  ...   0        0\n",
            "7478     82169  Chronicles of Narnia: The Voyage of the Dawn T...  ...   0        0\n",
            "8230    104074              Percy Jackson: Sea of Monsters (2013)  ...   0        0\n",
            "8641    119655                                 Seventh Son (2014)  ...   0        0\n",
            "8719    126142                 The Cave of the Golden Rose (1991)  ...   0        0\n",
            "8800    130450                                         Pan (2015)  ...   0        0\n",
            "9294    158813             Alice Through the Looking Glass (2016)  ...   0        0\n",
            "9336    160573                               Pete's Dragon (2016)  ...   0        0\n",
            "9565    173873                          Gulliver's Travels (1996)  ...   0        0\n",
            "\n",
            "[24 rows x 23 columns]\n"
          ],
          "name": "stdout"
        }
      ]
    },
    {
      "cell_type": "code",
      "metadata": {
        "id": "s4K3SoZ8LTQS",
        "colab_type": "code",
        "outputId": "7383e00c-34fd-40bc-8f96-5c9efdd098af",
        "colab": {
          "base_uri": "https://localhost:8080/",
          "height": 67
        }
      },
      "source": [
        "#agrupar os filmes usando Cluesteriracao - KMeans\n",
        "from sklearn.cluster import KMeans\n",
        "\n",
        "#criar um modele, passando o numero de grupos n_clusters\n",
        "modelo = KMeans(n_clusters = 3)\n",
        "modelo.fit(generos_escalados_ndarray)"
      ],
      "execution_count": 14,
      "outputs": [
        {
          "output_type": "execute_result",
          "data": {
            "text/plain": [
              "KMeans(algorithm='auto', copy_x=True, init='k-means++', max_iter=300,\n",
              "       n_clusters=3, n_init=10, n_jobs=None, precompute_distances='auto',\n",
              "       random_state=None, tol=0.0001, verbose=0)"
            ]
          },
          "metadata": {
            "tags": []
          },
          "execution_count": 14
        }
      ]
    },
    {
      "cell_type": "code",
      "metadata": {
        "id": "0f93wnCxONmG",
        "colab_type": "code",
        "outputId": "b5cdfbe6-7bbe-419f-e640-a16213f28cd5",
        "colab": {
          "base_uri": "https://localhost:8080/",
          "height": 34
        }
      },
      "source": [
        "#imprimir os grupos, pegar os rotulos com labels\n",
        "print('grupos {}'.format(modelo.labels_))"
      ],
      "execution_count": 15,
      "outputs": [
        {
          "output_type": "stream",
          "text": [
            "grupos [2 2 1 ... 1 2 1]\n"
          ],
          "name": "stdout"
        }
      ]
    },
    {
      "cell_type": "code",
      "metadata": {
        "id": "oNJL5Dt6Obhe",
        "colab_type": "code",
        "outputId": "7ee2c982-1e11-422a-a541-a9b62d51151e",
        "colab": {
          "base_uri": "https://localhost:8080/",
          "height": 34
        }
      },
      "source": [
        "#o f é o format\n",
        "print(f'grupos {modelo.labels_}')"
      ],
      "execution_count": 16,
      "outputs": [
        {
          "output_type": "stream",
          "text": [
            "grupos [2 2 1 ... 1 2 1]\n"
          ],
          "name": "stdout"
        }
      ]
    },
    {
      "cell_type": "code",
      "metadata": {
        "id": "MPGcqHKdOf1O",
        "colab_type": "code",
        "outputId": "e62f1cb4-18bc-43e6-b5d8-7d7815aa9577",
        "colab": {
          "base_uri": "https://localhost:8080/",
          "height": 302
        }
      },
      "source": [
        "print(generos_df.columns)\n",
        "#centro de cada grupo\n",
        "print(modelo.cluster_centers_)"
      ],
      "execution_count": 17,
      "outputs": [
        {
          "output_type": "stream",
          "text": [
            "Index(['(no genres listed)', 'Action', 'Adventure', 'Animation', 'Children',\n",
            "       'Comedy', 'Crime', 'Documentary', 'Drama', 'Fantasy', 'Film-Noir',\n",
            "       'Horror', 'IMAX', 'Musical', 'Mystery', 'Romance', 'Sci-Fi', 'Thriller',\n",
            "       'War', 'Western'],\n",
            "      dtype='object')\n",
            "[[-0.05917995  0.34443011 -0.27144974 -0.23524466 -0.26177995 -0.56224645\n",
            "   0.92116332 -0.21328016  0.1061589  -0.16428849  0.29531782  0.43675484\n",
            "  -0.07303529 -0.17640903  0.67695946 -0.31627997  0.07241632  1.43369349\n",
            "  -0.12320804 -0.04115187]\n",
            " [ 0.03718158 -0.3196422  -0.29638571 -0.2200747  -0.18224451  0.24905694\n",
            "  -0.27491431  0.13342489  0.10242285 -0.18142594 -0.08959578 -0.10824969\n",
            "  -0.11251862  0.02284971 -0.2201504   0.18958695 -0.19496239 -0.48661325\n",
            "   0.06061937  0.02889227]\n",
            " [-0.05917995  0.76435296  1.62770407  1.26101069  1.14841702 -0.13846894\n",
            "  -0.31462227 -0.21094231 -0.58170462  0.993449   -0.09492563 -0.23904634\n",
            "   0.57124651  0.18145075 -0.1575278  -0.27916393  0.6803341  -0.25077064\n",
            "  -0.05491888 -0.05350577]]\n"
          ],
          "name": "stdout"
        }
      ]
    },
    {
      "cell_type": "code",
      "metadata": {
        "id": "WT9lF92oWhqE",
        "colab_type": "code",
        "outputId": "dcd90420-04fe-40e2-f887-1f793b9b9bca",
        "colab": {
          "base_uri": "https://localhost:8080/",
          "height": 190
        }
      },
      "source": [
        "#transformar em dataframe\n",
        "grupos = pd.DataFrame(modelo.cluster_centers_, columns=generos_df.columns)\n",
        "grupos"
      ],
      "execution_count": 18,
      "outputs": [
        {
          "output_type": "execute_result",
          "data": {
            "text/html": [
              "<div>\n",
              "<style scoped>\n",
              "    .dataframe tbody tr th:only-of-type {\n",
              "        vertical-align: middle;\n",
              "    }\n",
              "\n",
              "    .dataframe tbody tr th {\n",
              "        vertical-align: top;\n",
              "    }\n",
              "\n",
              "    .dataframe thead th {\n",
              "        text-align: right;\n",
              "    }\n",
              "</style>\n",
              "<table border=\"1\" class=\"dataframe\">\n",
              "  <thead>\n",
              "    <tr style=\"text-align: right;\">\n",
              "      <th></th>\n",
              "      <th>(no genres listed)</th>\n",
              "      <th>Action</th>\n",
              "      <th>Adventure</th>\n",
              "      <th>Animation</th>\n",
              "      <th>Children</th>\n",
              "      <th>Comedy</th>\n",
              "      <th>Crime</th>\n",
              "      <th>Documentary</th>\n",
              "      <th>Drama</th>\n",
              "      <th>Fantasy</th>\n",
              "      <th>Film-Noir</th>\n",
              "      <th>Horror</th>\n",
              "      <th>IMAX</th>\n",
              "      <th>Musical</th>\n",
              "      <th>Mystery</th>\n",
              "      <th>Romance</th>\n",
              "      <th>Sci-Fi</th>\n",
              "      <th>Thriller</th>\n",
              "      <th>War</th>\n",
              "      <th>Western</th>\n",
              "    </tr>\n",
              "  </thead>\n",
              "  <tbody>\n",
              "    <tr>\n",
              "      <th>0</th>\n",
              "      <td>-0.059180</td>\n",
              "      <td>0.344430</td>\n",
              "      <td>-0.271450</td>\n",
              "      <td>-0.235245</td>\n",
              "      <td>-0.261780</td>\n",
              "      <td>-0.562246</td>\n",
              "      <td>0.921163</td>\n",
              "      <td>-0.213280</td>\n",
              "      <td>0.106159</td>\n",
              "      <td>-0.164288</td>\n",
              "      <td>0.295318</td>\n",
              "      <td>0.436755</td>\n",
              "      <td>-0.073035</td>\n",
              "      <td>-0.176409</td>\n",
              "      <td>0.676959</td>\n",
              "      <td>-0.316280</td>\n",
              "      <td>0.072416</td>\n",
              "      <td>1.433693</td>\n",
              "      <td>-0.123208</td>\n",
              "      <td>-0.041152</td>\n",
              "    </tr>\n",
              "    <tr>\n",
              "      <th>1</th>\n",
              "      <td>0.037182</td>\n",
              "      <td>-0.319642</td>\n",
              "      <td>-0.296386</td>\n",
              "      <td>-0.220075</td>\n",
              "      <td>-0.182245</td>\n",
              "      <td>0.249057</td>\n",
              "      <td>-0.274914</td>\n",
              "      <td>0.133425</td>\n",
              "      <td>0.102423</td>\n",
              "      <td>-0.181426</td>\n",
              "      <td>-0.089596</td>\n",
              "      <td>-0.108250</td>\n",
              "      <td>-0.112519</td>\n",
              "      <td>0.022850</td>\n",
              "      <td>-0.220150</td>\n",
              "      <td>0.189587</td>\n",
              "      <td>-0.194962</td>\n",
              "      <td>-0.486613</td>\n",
              "      <td>0.060619</td>\n",
              "      <td>0.028892</td>\n",
              "    </tr>\n",
              "    <tr>\n",
              "      <th>2</th>\n",
              "      <td>-0.059180</td>\n",
              "      <td>0.764353</td>\n",
              "      <td>1.627704</td>\n",
              "      <td>1.261011</td>\n",
              "      <td>1.148417</td>\n",
              "      <td>-0.138469</td>\n",
              "      <td>-0.314622</td>\n",
              "      <td>-0.210942</td>\n",
              "      <td>-0.581705</td>\n",
              "      <td>0.993449</td>\n",
              "      <td>-0.094926</td>\n",
              "      <td>-0.239046</td>\n",
              "      <td>0.571247</td>\n",
              "      <td>0.181451</td>\n",
              "      <td>-0.157528</td>\n",
              "      <td>-0.279164</td>\n",
              "      <td>0.680334</td>\n",
              "      <td>-0.250771</td>\n",
              "      <td>-0.054919</td>\n",
              "      <td>-0.053506</td>\n",
              "    </tr>\n",
              "  </tbody>\n",
              "</table>\n",
              "</div>"
            ],
            "text/plain": [
              "   (no genres listed)    Action  Adventure  ...  Thriller       War   Western\n",
              "0           -0.059180  0.344430  -0.271450  ...  1.433693 -0.123208 -0.041152\n",
              "1            0.037182 -0.319642  -0.296386  ... -0.486613  0.060619  0.028892\n",
              "2           -0.059180  0.764353   1.627704  ... -0.250771 -0.054919 -0.053506\n",
              "\n",
              "[3 rows x 20 columns]"
            ]
          },
          "metadata": {
            "tags": []
          },
          "execution_count": 18
        }
      ]
    },
    {
      "cell_type": "code",
      "metadata": {
        "id": "8K_k3PuHXDhT",
        "colab_type": "code",
        "outputId": "c8c17f12-af58-4070-cc05-660e8b32b4f0",
        "colab": {
          "base_uri": "https://localhost:8080/",
          "height": 1000
        }
      },
      "source": [
        "#um grafico pra cada grupo\n",
        "grupos.plot.bar(subplots=True, figsize=(10,10), sharex=False)"
      ],
      "execution_count": 19,
      "outputs": [
        {
          "output_type": "stream",
          "text": [
            "/usr/local/lib/python3.6/dist-packages/pandas/plotting/_matplotlib/tools.py:307: MatplotlibDeprecationWarning: \n",
            "The rowNum attribute was deprecated in Matplotlib 3.2 and will be removed two minor releases later. Use ax.get_subplotspec().rowspan.start instead.\n",
            "  layout[ax.rowNum, ax.colNum] = ax.get_visible()\n",
            "/usr/local/lib/python3.6/dist-packages/pandas/plotting/_matplotlib/tools.py:307: MatplotlibDeprecationWarning: \n",
            "The colNum attribute was deprecated in Matplotlib 3.2 and will be removed two minor releases later. Use ax.get_subplotspec().colspan.start instead.\n",
            "  layout[ax.rowNum, ax.colNum] = ax.get_visible()\n",
            "/usr/local/lib/python3.6/dist-packages/pandas/plotting/_matplotlib/tools.py:313: MatplotlibDeprecationWarning: \n",
            "The rowNum attribute was deprecated in Matplotlib 3.2 and will be removed two minor releases later. Use ax.get_subplotspec().rowspan.start instead.\n",
            "  if not layout[ax.rowNum + 1, ax.colNum]:\n",
            "/usr/local/lib/python3.6/dist-packages/pandas/plotting/_matplotlib/tools.py:313: MatplotlibDeprecationWarning: \n",
            "The colNum attribute was deprecated in Matplotlib 3.2 and will be removed two minor releases later. Use ax.get_subplotspec().colspan.start instead.\n",
            "  if not layout[ax.rowNum + 1, ax.colNum]:\n"
          ],
          "name": "stderr"
        },
        {
          "output_type": "execute_result",
          "data": {
            "text/plain": [
              "array([<matplotlib.axes._subplots.AxesSubplot object at 0x7f9fa50dda90>,\n",
              "       <matplotlib.axes._subplots.AxesSubplot object at 0x7f9fa50c1c88>,\n",
              "       <matplotlib.axes._subplots.AxesSubplot object at 0x7f9fa5079ef0>,\n",
              "       <matplotlib.axes._subplots.AxesSubplot object at 0x7f9fa5038198>,\n",
              "       <matplotlib.axes._subplots.AxesSubplot object at 0x7f9fa4fec400>,\n",
              "       <matplotlib.axes._subplots.AxesSubplot object at 0x7f9fa4f9d668>,\n",
              "       <matplotlib.axes._subplots.AxesSubplot object at 0x7f9fa4fd58d0>,\n",
              "       <matplotlib.axes._subplots.AxesSubplot object at 0x7f9fa4f86b00>,\n",
              "       <matplotlib.axes._subplots.AxesSubplot object at 0x7f9fa4f86b70>,\n",
              "       <matplotlib.axes._subplots.AxesSubplot object at 0x7f9fa4eeffd0>,\n",
              "       <matplotlib.axes._subplots.AxesSubplot object at 0x7f9fa4eac2b0>,\n",
              "       <matplotlib.axes._subplots.AxesSubplot object at 0x7f9fa4e5f518>,\n",
              "       <matplotlib.axes._subplots.AxesSubplot object at 0x7f9fa4e91780>,\n",
              "       <matplotlib.axes._subplots.AxesSubplot object at 0x7f9fa4e469e8>,\n",
              "       <matplotlib.axes._subplots.AxesSubplot object at 0x7f9fa4dfbc50>,\n",
              "       <matplotlib.axes._subplots.AxesSubplot object at 0x7f9fa4daeeb8>,\n",
              "       <matplotlib.axes._subplots.AxesSubplot object at 0x7f9fa4d6d160>,\n",
              "       <matplotlib.axes._subplots.AxesSubplot object at 0x7f9fa4d203c8>,\n",
              "       <matplotlib.axes._subplots.AxesSubplot object at 0x7f9fa4d53630>,\n",
              "       <matplotlib.axes._subplots.AxesSubplot object at 0x7f9fa4d06898>],\n",
              "      dtype=object)"
            ]
          },
          "metadata": {
            "tags": []
          },
          "execution_count": 19
        },
        {
          "output_type": "display_data",
          "data": {
            "image/png": "[encoded data removed]",
            "text/plain": [
              "<Figure size 720x720 with 20 Axes>"
            ]
          },
          "metadata": {
            "tags": []
          }
        }
      ]
    },
    {
      "cell_type": "code",
      "metadata": {
        "id": "5JLu1joEXe3b",
        "colab_type": "code",
        "outputId": "53462053-8994-4161-cfcd-f28494c98e5f",
        "colab": {
          "base_uri": "https://localhost:8080/",
          "height": 639
        }
      },
      "source": [
        "#tranposicao de colunas\n",
        "grupos.transpose()"
      ],
      "execution_count": 20,
      "outputs": [
        {
          "output_type": "execute_result",
          "data": {
            "text/html": [
              "<div>\n",
              "<style scoped>\n",
              "    .dataframe tbody tr th:only-of-type {\n",
              "        vertical-align: middle;\n",
              "    }\n",
              "\n",
              "    .dataframe tbody tr th {\n",
              "        vertical-align: top;\n",
              "    }\n",
              "\n",
              "    .dataframe thead th {\n",
              "        text-align: right;\n",
              "    }\n",
              "</style>\n",
              "<table border=\"1\" class=\"dataframe\">\n",
              "  <thead>\n",
              "    <tr style=\"text-align: right;\">\n",
              "      <th></th>\n",
              "      <th>0</th>\n",
              "      <th>1</th>\n",
              "      <th>2</th>\n",
              "    </tr>\n",
              "  </thead>\n",
              "  <tbody>\n",
              "    <tr>\n",
              "      <th>(no genres listed)</th>\n",
              "      <td>-0.059180</td>\n",
              "      <td>0.037182</td>\n",
              "      <td>-0.059180</td>\n",
              "    </tr>\n",
              "    <tr>\n",
              "      <th>Action</th>\n",
              "      <td>0.344430</td>\n",
              "      <td>-0.319642</td>\n",
              "      <td>0.764353</td>\n",
              "    </tr>\n",
              "    <tr>\n",
              "      <th>Adventure</th>\n",
              "      <td>-0.271450</td>\n",
              "      <td>-0.296386</td>\n",
              "      <td>1.627704</td>\n",
              "    </tr>\n",
              "    <tr>\n",
              "      <th>Animation</th>\n",
              "      <td>-0.235245</td>\n",
              "      <td>-0.220075</td>\n",
              "      <td>1.261011</td>\n",
              "    </tr>\n",
              "    <tr>\n",
              "      <th>Children</th>\n",
              "      <td>-0.261780</td>\n",
              "      <td>-0.182245</td>\n",
              "      <td>1.148417</td>\n",
              "    </tr>\n",
              "    <tr>\n",
              "      <th>Comedy</th>\n",
              "      <td>-0.562246</td>\n",
              "      <td>0.249057</td>\n",
              "      <td>-0.138469</td>\n",
              "    </tr>\n",
              "    <tr>\n",
              "      <th>Crime</th>\n",
              "      <td>0.921163</td>\n",
              "      <td>-0.274914</td>\n",
              "      <td>-0.314622</td>\n",
              "    </tr>\n",
              "    <tr>\n",
              "      <th>Documentary</th>\n",
              "      <td>-0.213280</td>\n",
              "      <td>0.133425</td>\n",
              "      <td>-0.210942</td>\n",
              "    </tr>\n",
              "    <tr>\n",
              "      <th>Drama</th>\n",
              "      <td>0.106159</td>\n",
              "      <td>0.102423</td>\n",
              "      <td>-0.581705</td>\n",
              "    </tr>\n",
              "    <tr>\n",
              "      <th>Fantasy</th>\n",
              "      <td>-0.164288</td>\n",
              "      <td>-0.181426</td>\n",
              "      <td>0.993449</td>\n",
              "    </tr>\n",
              "    <tr>\n",
              "      <th>Film-Noir</th>\n",
              "      <td>0.295318</td>\n",
              "      <td>-0.089596</td>\n",
              "      <td>-0.094926</td>\n",
              "    </tr>\n",
              "    <tr>\n",
              "      <th>Horror</th>\n",
              "      <td>0.436755</td>\n",
              "      <td>-0.108250</td>\n",
              "      <td>-0.239046</td>\n",
              "    </tr>\n",
              "    <tr>\n",
              "      <th>IMAX</th>\n",
              "      <td>-0.073035</td>\n",
              "      <td>-0.112519</td>\n",
              "      <td>0.571247</td>\n",
              "    </tr>\n",
              "    <tr>\n",
              "      <th>Musical</th>\n",
              "      <td>-0.176409</td>\n",
              "      <td>0.022850</td>\n",
              "      <td>0.181451</td>\n",
              "    </tr>\n",
              "    <tr>\n",
              "      <th>Mystery</th>\n",
              "      <td>0.676959</td>\n",
              "      <td>-0.220150</td>\n",
              "      <td>-0.157528</td>\n",
              "    </tr>\n",
              "    <tr>\n",
              "      <th>Romance</th>\n",
              "      <td>-0.316280</td>\n",
              "      <td>0.189587</td>\n",
              "      <td>-0.279164</td>\n",
              "    </tr>\n",
              "    <tr>\n",
              "      <th>Sci-Fi</th>\n",
              "      <td>0.072416</td>\n",
              "      <td>-0.194962</td>\n",
              "      <td>0.680334</td>\n",
              "    </tr>\n",
              "    <tr>\n",
              "      <th>Thriller</th>\n",
              "      <td>1.433693</td>\n",
              "      <td>-0.486613</td>\n",
              "      <td>-0.250771</td>\n",
              "    </tr>\n",
              "    <tr>\n",
              "      <th>War</th>\n",
              "      <td>-0.123208</td>\n",
              "      <td>0.060619</td>\n",
              "      <td>-0.054919</td>\n",
              "    </tr>\n",
              "    <tr>\n",
              "      <th>Western</th>\n",
              "      <td>-0.041152</td>\n",
              "      <td>0.028892</td>\n",
              "      <td>-0.053506</td>\n",
              "    </tr>\n",
              "  </tbody>\n",
              "</table>\n",
              "</div>"
            ],
            "text/plain": [
              "                           0         1         2\n",
              "(no genres listed) -0.059180  0.037182 -0.059180\n",
              "Action              0.344430 -0.319642  0.764353\n",
              "Adventure          -0.271450 -0.296386  1.627704\n",
              "Animation          -0.235245 -0.220075  1.261011\n",
              "Children           -0.261780 -0.182245  1.148417\n",
              "Comedy             -0.562246  0.249057 -0.138469\n",
              "Crime               0.921163 -0.274914 -0.314622\n",
              "Documentary        -0.213280  0.133425 -0.210942\n",
              "Drama               0.106159  0.102423 -0.581705\n",
              "Fantasy            -0.164288 -0.181426  0.993449\n",
              "Film-Noir           0.295318 -0.089596 -0.094926\n",
              "Horror              0.436755 -0.108250 -0.239046\n",
              "IMAX               -0.073035 -0.112519  0.571247\n",
              "Musical            -0.176409  0.022850  0.181451\n",
              "Mystery             0.676959 -0.220150 -0.157528\n",
              "Romance            -0.316280  0.189587 -0.279164\n",
              "Sci-Fi              0.072416 -0.194962  0.680334\n",
              "Thriller            1.433693 -0.486613 -0.250771\n",
              "War                -0.123208  0.060619 -0.054919\n",
              "Western            -0.041152  0.028892 -0.053506"
            ]
          },
          "metadata": {
            "tags": []
          },
          "execution_count": 20
        }
      ]
    },
    {
      "cell_type": "code",
      "metadata": {
        "id": "1rM_ZBhd6a_P",
        "colab_type": "code",
        "outputId": "c6f18c8b-b532-4ab1-c2c9-1953545106c6",
        "colab": {
          "base_uri": "https://localhost:8080/",
          "height": 1000
        }
      },
      "source": [
        "grupos.transpose().plot.bar(subplots=True, figsize=(20,20), sharex=False)"
      ],
      "execution_count": 21,
      "outputs": [
        {
          "output_type": "stream",
          "text": [
            "/usr/local/lib/python3.6/dist-packages/pandas/plotting/_matplotlib/tools.py:307: MatplotlibDeprecationWarning: \n",
            "The rowNum attribute was deprecated in Matplotlib 3.2 and will be removed two minor releases later. Use ax.get_subplotspec().rowspan.start instead.\n",
            "  layout[ax.rowNum, ax.colNum] = ax.get_visible()\n",
            "/usr/local/lib/python3.6/dist-packages/pandas/plotting/_matplotlib/tools.py:307: MatplotlibDeprecationWarning: \n",
            "The colNum attribute was deprecated in Matplotlib 3.2 and will be removed two minor releases later. Use ax.get_subplotspec().colspan.start instead.\n",
            "  layout[ax.rowNum, ax.colNum] = ax.get_visible()\n",
            "/usr/local/lib/python3.6/dist-packages/pandas/plotting/_matplotlib/tools.py:313: MatplotlibDeprecationWarning: \n",
            "The rowNum attribute was deprecated in Matplotlib 3.2 and will be removed two minor releases later. Use ax.get_subplotspec().rowspan.start instead.\n",
            "  if not layout[ax.rowNum + 1, ax.colNum]:\n",
            "/usr/local/lib/python3.6/dist-packages/pandas/plotting/_matplotlib/tools.py:313: MatplotlibDeprecationWarning: \n",
            "The colNum attribute was deprecated in Matplotlib 3.2 and will be removed two minor releases later. Use ax.get_subplotspec().colspan.start instead.\n",
            "  if not layout[ax.rowNum + 1, ax.colNum]:\n"
          ],
          "name": "stderr"
        },
        {
          "output_type": "execute_result",
          "data": {
            "text/plain": [
              "array([<matplotlib.axes._subplots.AxesSubplot object at 0x7f9fa4647710>,\n",
              "       <matplotlib.axes._subplots.AxesSubplot object at 0x7f9fa4517ef0>,\n",
              "       <matplotlib.axes._subplots.AxesSubplot object at 0x7f9fa4544198>],\n",
              "      dtype=object)"
            ]
          },
          "metadata": {
            "tags": []
          },
          "execution_count": 21
        },
        {
          "output_type": "display_data",
          "data": {
            "image/png": "[encoded data removed]",
            "text/plain": [
              "<Figure size 1440x1440 with 3 Axes>"
            ]
          },
          "metadata": {
            "tags": []
          }
        }
      ]
    },
    {
      "cell_type": "code",
      "metadata": {
        "id": "WtOcai_v6fKq",
        "colab_type": "code",
        "outputId": "029013f0-3fb4-44a2-fcd1-a4d4117e7f37",
        "colab": {
          "base_uri": "https://localhost:8080/",
          "height": 649
        }
      },
      "source": [
        "#fitrar o grupo\n",
        "grupo = 0 \n",
        "filtro = modelo.labels_ == grupo\n",
        "dados_filmes_df[filtro].sample(10)"
      ],
      "execution_count": 22,
      "outputs": [
        {
          "output_type": "execute_result",
          "data": {
            "text/html": [
              "<div>\n",
              "<style scoped>\n",
              "    .dataframe tbody tr th:only-of-type {\n",
              "        vertical-align: middle;\n",
              "    }\n",
              "\n",
              "    .dataframe tbody tr th {\n",
              "        vertical-align: top;\n",
              "    }\n",
              "\n",
              "    .dataframe thead th {\n",
              "        text-align: right;\n",
              "    }\n",
              "</style>\n",
              "<table border=\"1\" class=\"dataframe\">\n",
              "  <thead>\n",
              "    <tr style=\"text-align: right;\">\n",
              "      <th></th>\n",
              "      <th>filme_id</th>\n",
              "      <th>titulo</th>\n",
              "      <th>generos</th>\n",
              "      <th>(no genres listed)</th>\n",
              "      <th>Action</th>\n",
              "      <th>Adventure</th>\n",
              "      <th>Animation</th>\n",
              "      <th>Children</th>\n",
              "      <th>Comedy</th>\n",
              "      <th>Crime</th>\n",
              "      <th>Documentary</th>\n",
              "      <th>Drama</th>\n",
              "      <th>Fantasy</th>\n",
              "      <th>Film-Noir</th>\n",
              "      <th>Horror</th>\n",
              "      <th>IMAX</th>\n",
              "      <th>Musical</th>\n",
              "      <th>Mystery</th>\n",
              "      <th>Romance</th>\n",
              "      <th>Sci-Fi</th>\n",
              "      <th>Thriller</th>\n",
              "      <th>War</th>\n",
              "      <th>Western</th>\n",
              "    </tr>\n",
              "  </thead>\n",
              "  <tbody>\n",
              "    <tr>\n",
              "      <th>7690</th>\n",
              "      <td>89582</td>\n",
              "      <td>Cold Fish (Tsumetai nettaigyo) (2010)</td>\n",
              "      <td>Drama|Thriller</td>\n",
              "      <td>0</td>\n",
              "      <td>0</td>\n",
              "      <td>0</td>\n",
              "      <td>0</td>\n",
              "      <td>0</td>\n",
              "      <td>0</td>\n",
              "      <td>0</td>\n",
              "      <td>0</td>\n",
              "      <td>1</td>\n",
              "      <td>0</td>\n",
              "      <td>0</td>\n",
              "      <td>0</td>\n",
              "      <td>0</td>\n",
              "      <td>0</td>\n",
              "      <td>0</td>\n",
              "      <td>0</td>\n",
              "      <td>0</td>\n",
              "      <td>1</td>\n",
              "      <td>0</td>\n",
              "      <td>0</td>\n",
              "    </tr>\n",
              "    <tr>\n",
              "      <th>1468</th>\n",
              "      <td>1993</td>\n",
              "      <td>Child's Play 3 (1991)</td>\n",
              "      <td>Comedy|Horror|Thriller</td>\n",
              "      <td>0</td>\n",
              "      <td>0</td>\n",
              "      <td>0</td>\n",
              "      <td>0</td>\n",
              "      <td>0</td>\n",
              "      <td>1</td>\n",
              "      <td>0</td>\n",
              "      <td>0</td>\n",
              "      <td>0</td>\n",
              "      <td>0</td>\n",
              "      <td>0</td>\n",
              "      <td>1</td>\n",
              "      <td>0</td>\n",
              "      <td>0</td>\n",
              "      <td>0</td>\n",
              "      <td>0</td>\n",
              "      <td>0</td>\n",
              "      <td>1</td>\n",
              "      <td>0</td>\n",
              "      <td>0</td>\n",
              "    </tr>\n",
              "    <tr>\n",
              "      <th>1925</th>\n",
              "      <td>2553</td>\n",
              "      <td>Village of the Damned (1960)</td>\n",
              "      <td>Horror|Sci-Fi|Thriller</td>\n",
              "      <td>0</td>\n",
              "      <td>0</td>\n",
              "      <td>0</td>\n",
              "      <td>0</td>\n",
              "      <td>0</td>\n",
              "      <td>0</td>\n",
              "      <td>0</td>\n",
              "      <td>0</td>\n",
              "      <td>0</td>\n",
              "      <td>0</td>\n",
              "      <td>0</td>\n",
              "      <td>1</td>\n",
              "      <td>0</td>\n",
              "      <td>0</td>\n",
              "      <td>0</td>\n",
              "      <td>0</td>\n",
              "      <td>1</td>\n",
              "      <td>1</td>\n",
              "      <td>0</td>\n",
              "      <td>0</td>\n",
              "    </tr>\n",
              "    <tr>\n",
              "      <th>8889</th>\n",
              "      <td>134368</td>\n",
              "      <td>Spy (2015)</td>\n",
              "      <td>Action|Comedy|Crime</td>\n",
              "      <td>0</td>\n",
              "      <td>1</td>\n",
              "      <td>0</td>\n",
              "      <td>0</td>\n",
              "      <td>0</td>\n",
              "      <td>1</td>\n",
              "      <td>1</td>\n",
              "      <td>0</td>\n",
              "      <td>0</td>\n",
              "      <td>0</td>\n",
              "      <td>0</td>\n",
              "      <td>0</td>\n",
              "      <td>0</td>\n",
              "      <td>0</td>\n",
              "      <td>0</td>\n",
              "      <td>0</td>\n",
              "      <td>0</td>\n",
              "      <td>0</td>\n",
              "      <td>0</td>\n",
              "      <td>0</td>\n",
              "    </tr>\n",
              "    <tr>\n",
              "      <th>3482</th>\n",
              "      <td>4754</td>\n",
              "      <td>Wicker Man, The (1973)</td>\n",
              "      <td>Drama|Horror|Mystery|Thriller</td>\n",
              "      <td>0</td>\n",
              "      <td>0</td>\n",
              "      <td>0</td>\n",
              "      <td>0</td>\n",
              "      <td>0</td>\n",
              "      <td>0</td>\n",
              "      <td>0</td>\n",
              "      <td>0</td>\n",
              "      <td>1</td>\n",
              "      <td>0</td>\n",
              "      <td>0</td>\n",
              "      <td>1</td>\n",
              "      <td>0</td>\n",
              "      <td>0</td>\n",
              "      <td>1</td>\n",
              "      <td>0</td>\n",
              "      <td>0</td>\n",
              "      <td>1</td>\n",
              "      <td>0</td>\n",
              "      <td>0</td>\n",
              "    </tr>\n",
              "    <tr>\n",
              "      <th>2426</th>\n",
              "      <td>3230</td>\n",
              "      <td>Odessa File, The (1974)</td>\n",
              "      <td>Thriller</td>\n",
              "      <td>0</td>\n",
              "      <td>0</td>\n",
              "      <td>0</td>\n",
              "      <td>0</td>\n",
              "      <td>0</td>\n",
              "      <td>0</td>\n",
              "      <td>0</td>\n",
              "      <td>0</td>\n",
              "      <td>0</td>\n",
              "      <td>0</td>\n",
              "      <td>0</td>\n",
              "      <td>0</td>\n",
              "      <td>0</td>\n",
              "      <td>0</td>\n",
              "      <td>0</td>\n",
              "      <td>0</td>\n",
              "      <td>0</td>\n",
              "      <td>1</td>\n",
              "      <td>0</td>\n",
              "      <td>0</td>\n",
              "    </tr>\n",
              "    <tr>\n",
              "      <th>1031</th>\n",
              "      <td>1343</td>\n",
              "      <td>Cape Fear (1991)</td>\n",
              "      <td>Thriller</td>\n",
              "      <td>0</td>\n",
              "      <td>0</td>\n",
              "      <td>0</td>\n",
              "      <td>0</td>\n",
              "      <td>0</td>\n",
              "      <td>0</td>\n",
              "      <td>0</td>\n",
              "      <td>0</td>\n",
              "      <td>0</td>\n",
              "      <td>0</td>\n",
              "      <td>0</td>\n",
              "      <td>0</td>\n",
              "      <td>0</td>\n",
              "      <td>0</td>\n",
              "      <td>0</td>\n",
              "      <td>0</td>\n",
              "      <td>0</td>\n",
              "      <td>1</td>\n",
              "      <td>0</td>\n",
              "      <td>0</td>\n",
              "    </tr>\n",
              "    <tr>\n",
              "      <th>6543</th>\n",
              "      <td>54736</td>\n",
              "      <td>Kingdom, The (2007)</td>\n",
              "      <td>Action|Drama|Thriller</td>\n",
              "      <td>0</td>\n",
              "      <td>1</td>\n",
              "      <td>0</td>\n",
              "      <td>0</td>\n",
              "      <td>0</td>\n",
              "      <td>0</td>\n",
              "      <td>0</td>\n",
              "      <td>0</td>\n",
              "      <td>1</td>\n",
              "      <td>0</td>\n",
              "      <td>0</td>\n",
              "      <td>0</td>\n",
              "      <td>0</td>\n",
              "      <td>0</td>\n",
              "      <td>0</td>\n",
              "      <td>0</td>\n",
              "      <td>0</td>\n",
              "      <td>1</td>\n",
              "      <td>0</td>\n",
              "      <td>0</td>\n",
              "    </tr>\n",
              "    <tr>\n",
              "      <th>3946</th>\n",
              "      <td>5556</td>\n",
              "      <td>FearDotCom (a.k.a. Fear.com) (a.k.a. Fear Dot ...</td>\n",
              "      <td>Crime|Horror|Thriller</td>\n",
              "      <td>0</td>\n",
              "      <td>0</td>\n",
              "      <td>0</td>\n",
              "      <td>0</td>\n",
              "      <td>0</td>\n",
              "      <td>0</td>\n",
              "      <td>1</td>\n",
              "      <td>0</td>\n",
              "      <td>0</td>\n",
              "      <td>0</td>\n",
              "      <td>0</td>\n",
              "      <td>1</td>\n",
              "      <td>0</td>\n",
              "      <td>0</td>\n",
              "      <td>0</td>\n",
              "      <td>0</td>\n",
              "      <td>0</td>\n",
              "      <td>1</td>\n",
              "      <td>0</td>\n",
              "      <td>0</td>\n",
              "    </tr>\n",
              "    <tr>\n",
              "      <th>6691</th>\n",
              "      <td>58287</td>\n",
              "      <td>Descent (2007)</td>\n",
              "      <td>Drama|Thriller</td>\n",
              "      <td>0</td>\n",
              "      <td>0</td>\n",
              "      <td>0</td>\n",
              "      <td>0</td>\n",
              "      <td>0</td>\n",
              "      <td>0</td>\n",
              "      <td>0</td>\n",
              "      <td>0</td>\n",
              "      <td>1</td>\n",
              "      <td>0</td>\n",
              "      <td>0</td>\n",
              "      <td>0</td>\n",
              "      <td>0</td>\n",
              "      <td>0</td>\n",
              "      <td>0</td>\n",
              "      <td>0</td>\n",
              "      <td>0</td>\n",
              "      <td>1</td>\n",
              "      <td>0</td>\n",
              "      <td>0</td>\n",
              "    </tr>\n",
              "  </tbody>\n",
              "</table>\n",
              "</div>"
            ],
            "text/plain": [
              "      filme_id                                             titulo  ... War  Western\n",
              "7690     89582              Cold Fish (Tsumetai nettaigyo) (2010)  ...   0        0\n",
              "1468      1993                              Child's Play 3 (1991)  ...   0        0\n",
              "1925      2553                       Village of the Damned (1960)  ...   0        0\n",
              "8889    134368                                         Spy (2015)  ...   0        0\n",
              "3482      4754                             Wicker Man, The (1973)  ...   0        0\n",
              "2426      3230                            Odessa File, The (1974)  ...   0        0\n",
              "1031      1343                                   Cape Fear (1991)  ...   0        0\n",
              "6543     54736                                Kingdom, The (2007)  ...   0        0\n",
              "3946      5556  FearDotCom (a.k.a. Fear.com) (a.k.a. Fear Dot ...  ...   0        0\n",
              "6691     58287                                     Descent (2007)  ...   0        0\n",
              "\n",
              "[10 rows x 23 columns]"
            ]
          },
          "metadata": {
            "tags": []
          },
          "execution_count": 22
        }
      ]
    },
    {
      "cell_type": "code",
      "metadata": {
        "id": "Eo603k1Z7Oc_",
        "colab_type": "code",
        "colab": {}
      },
      "source": [
        "#TSNE reduzir as dimensoes\n",
        "from sklearn.manifold import TSNE"
      ],
      "execution_count": 0,
      "outputs": []
    },
    {
      "cell_type": "code",
      "metadata": {
        "id": "clRHmS_fe0Sa",
        "colab_type": "code",
        "colab": {
          "base_uri": "https://localhost:8080/",
          "height": 134
        },
        "outputId": "59d3ec46-e3ca-4bf2-bb6a-319a25381258"
      },
      "source": [
        "tsne = TSNE()\n",
        "visulizar = tsne.fit_transform(generos_escalados_ndarray)\n",
        "visulizar"
      ],
      "execution_count": 24,
      "outputs": [
        {
          "output_type": "execute_result",
          "data": {
            "text/plain": [
              "array([[ 32.307823 ,  58.58172  ],\n",
              "       [-13.818319 , -56.570587 ],\n",
              "       [-19.975397 ,   6.652092 ],\n",
              "       ...,\n",
              "       [  8.990743 ,   2.0059605],\n",
              "       [ 31.982107 ,  33.307556 ],\n",
              "       [-14.28015  , -30.456411 ]], dtype=float32)"
            ]
          },
          "metadata": {
            "tags": []
          },
          "execution_count": 24
        }
      ]
    },
    {
      "cell_type": "code",
      "metadata": {
        "id": "rI8xKjScfErl",
        "colab_type": "code",
        "colab": {}
      },
      "source": [
        "#SEABORN, !pip install seaborn para pegar nova versao \n",
        "import seaborn as sns"
      ],
      "execution_count": 0,
      "outputs": []
    },
    {
      "cell_type": "code",
      "metadata": {
        "id": "ejgLV0mAfb8N",
        "colab_type": "code",
        "colab": {
          "base_uri": "https://localhost:8080/",
          "height": 282
        },
        "outputId": "e8302e57-94c7-4e33-d9a9-c0551c4a2c89"
      },
      "source": [
        "sns.scatterplot(x=visulizar[:,0], y=visulizar[:,1])"
      ],
      "execution_count": 27,
      "outputs": [
        {
          "output_type": "execute_result",
          "data": {
            "text/plain": [
              "<matplotlib.axes._subplots.AxesSubplot at 0x7f9fa15454a8>"
            ]
          },
          "metadata": {
            "tags": []
          },
          "execution_count": 27
        },
        {
          "output_type": "display_data",
          "data": {
            "image/png": "[encoded data removed]",
            "text/plain": [
              "<Figure size 432x288 with 1 Axes>"
            ]
          },
          "metadata": {
            "tags": []
          }
        }
      ]
    },
    {
      "cell_type": "code",
      "metadata": {
        "id": "IRPwfjXtgKcX",
        "colab_type": "code",
        "colab": {
          "base_uri": "https://localhost:8080/",
          "height": 794
        },
        "outputId": "16c01cc2-47ea-416e-e6d3-fa6d940edfb2"
      },
      "source": [
        "#inflcuir o hue para colocar as cores da classes q o kmean gero e o palette para corrigir o ton da cores\n",
        "sns.set(rc={'figure.figsize':(13,13)})\n",
        "sns.scatterplot(x=visulizar[:,0], \n",
        "                y=visulizar[:,1], \n",
        "                hue=modelo.labels_,\n",
        "                palette=sns.color_palette('Set1', 3))\n",
        "\n",
        "#temos um ponto de observação: alguma cores e estao junta com outra esperavamos que nao, e visemos os grupos\n",
        "#porem lembrando que o tsne quando diminui as dimensoes ele perde informaçoes assim nao vamos ver os grupos"
      ],
      "execution_count": 31,
      "outputs": [
        {
          "output_type": "execute_result",
          "data": {
            "text/plain": [
              "<matplotlib.axes._subplots.AxesSubplot at 0x7f9fa113f080>"
            ]
          },
          "metadata": {
            "tags": []
          },
          "execution_count": 31
        },
        {
          "output_type": "display_data",
          "data": {
            "image/png": "[encoded data removed]",
            "text/plain": [
              "<Figure size 936x936 with 1 Axes>"
            ]
          },
          "metadata": {
            "tags": []
          }
        }
      ]
    },
    {
      "cell_type": "code",
      "metadata": {
        "id": "owGrffeIgiVw",
        "colab_type": "code",
        "colab": {}
      },
      "source": [
        ""
      ],
      "execution_count": 0,
      "outputs": []
    }
  ]
}